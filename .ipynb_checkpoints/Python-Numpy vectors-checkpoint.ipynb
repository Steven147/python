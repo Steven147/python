{
 "cells": [
  {
   "cell_type": "code",
   "execution_count": 11,
   "metadata": {},
   "outputs": [],
   "source": [
    "import numpy as np\n",
    "\n",
    "a = np.random.randn(5)#不是一个矩阵"
   ]
  },
  {
   "cell_type": "code",
   "execution_count": 12,
   "metadata": {},
   "outputs": [
    {
     "name": "stdout",
     "output_type": "stream",
     "text": [
      "[ 1.48926571 -0.04985446 -0.91360661 -1.02966144 -0.86831982]\n"
     ]
    }
   ],
   "source": [
    "print(a)"
   ]
  },
  {
   "cell_type": "code",
   "execution_count": 13,
   "metadata": {},
   "outputs": [
    {
     "name": "stdout",
     "output_type": "stream",
     "text": [
      "(5,)\n"
     ]
    }
   ],
   "source": [
    "print(a.shape)#秩为一的数组（不要使用！用行列向量代替）"
   ]
  },
  {
   "cell_type": "code",
   "execution_count": 14,
   "metadata": {},
   "outputs": [
    {
     "name": "stdout",
     "output_type": "stream",
     "text": [
      "[ 1.48926571 -0.04985446 -0.91360661 -1.02966144 -0.86831982]\n"
     ]
    }
   ],
   "source": [
    "print(a.T)"
   ]
  },
  {
   "cell_type": "code",
   "execution_count": 15,
   "metadata": {},
   "outputs": [
    {
     "name": "stdout",
     "output_type": "stream",
     "text": [
      "4.869256838466858\n"
     ]
    }
   ],
   "source": [
    "print(np.dot(a,a.T))#按理说是向量外积，答案却是内积"
   ]
  },
  {
   "cell_type": "code",
   "execution_count": 16,
   "metadata": {},
   "outputs": [
    {
     "name": "stdout",
     "output_type": "stream",
     "text": [
      "[[ 1.44753642]\n",
      " [ 1.24108442]\n",
      " [ 0.2753522 ]\n",
      " [-1.44163629]\n",
      " [-0.85341862]]\n"
     ]
    }
   ],
   "source": [
    "a = np.random.randn(5,1)#是一个列向量（矩阵）\n",
    "print(a)"
   ]
  },
  {
   "cell_type": "code",
   "execution_count": 17,
   "metadata": {},
   "outputs": [
    {
     "name": "stdout",
     "output_type": "stream",
     "text": [
      "[[ 1.44753642  1.24108442  0.2753522  -1.44163629 -0.85341862]]\n"
     ]
    }
   ],
   "source": [
    "print(a.T)"
   ]
  },
  {
   "cell_type": "code",
   "execution_count": 18,
   "metadata": {},
   "outputs": [
    {
     "name": "stdout",
     "output_type": "stream",
     "text": [
      "[[ 2.09536169  1.7965149   0.39858233 -2.08682103 -1.23535454]\n",
      " [ 1.7965149   1.54029053  0.34173532 -1.78919233 -1.05916455]\n",
      " [ 0.39858233  0.34173532  0.07581883 -0.39695772 -0.23499069]\n",
      " [-2.08682103 -1.78919233 -0.39695772  2.07831518  1.23031925]\n",
      " [-1.23535454 -1.05916455 -0.23499069  1.23031925  0.72832334]]\n"
     ]
    }
   ],
   "source": [
    "print(np.dot(a,a.T))#向量外积"
   ]
  },
  {
   "cell_type": "code",
   "execution_count": null,
   "metadata": {},
   "outputs": [],
   "source": []
  }
 ],
 "metadata": {
  "kernelspec": {
   "display_name": "Python [conda env:venv]",
   "language": "python",
   "name": "conda-env-venv-py"
  },
  "language_info": {
   "codemirror_mode": {
    "name": "ipython",
    "version": 3
   },
   "file_extension": ".py",
   "mimetype": "text/x-python",
   "name": "python",
   "nbconvert_exporter": "python",
   "pygments_lexer": "ipython3",
   "version": "3.7.6"
  }
 },
 "nbformat": 4,
 "nbformat_minor": 2
}
