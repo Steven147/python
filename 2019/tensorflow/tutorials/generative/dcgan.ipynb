{
  "metadata": {
    "accelerator": "GPU",
    "colab": {
      "collapsed_sections": [],
      "name": "dcgan.ipynb",
      "private_outputs": true,
      "provenance": [],
      "toc_visible": true
    },
    "kernelspec": {
      "display_name": "Python 3",
      "name": "python3"
    }
  },
  "nbformat": 4,
  "nbformat_minor": 0,
  "cells": [
    {
      "cell_type": "markdown",
      "metadata": {
        "colab_type": "text",
        "id": "_jQ1tEQCxwRx"
      },
      "source": [
        "##### Copyright 2019 The TensorFlow Authors."
      ]
    },
    {
      "cell_type": "code",
      "execution_count": 1,
      "metadata": {},
      "outputs": [],
      "source": [
        "#@title Licensed under the Apache License, Version 2.0 (the \"License\");\n",
        "# you may not use this file except in compliance with the License.\n",
        "# You may obtain a copy of the License at\n",
        "#\n",
        "# https://www.apache.org/licenses/LICENSE-2.0\n",
        "#\n",
        "# Unless required by applicable law or agreed to in writing, software\n",
        "# distributed under the License is distributed on an \"AS IS\" BASIS,\n",
        "# WITHOUT WARRANTIES OR CONDITIONS OF ANY KIND, either express or implied.\n",
        "# See the License for the specific language governing permissions and\n",
        "# limitations under the License."
      ]
    },
    {
      "cell_type": "markdown",
      "metadata": {
        "colab_type": "text",
        "id": "rF2x3qooyBTI"
      },
      "source": [
        "# Deep Convolutional Generative Adversarial Network"
      ]
    },
    {
      "cell_type": "markdown",
      "metadata": {
        "colab_type": "text",
        "id": "0TD5ZrvEMbhZ"
      },
      "source": [
        "<table class=\"tfo-notebook-buttons\" align=\"left\">\n",
        "  <td>\n",
        "    <a target=\"_blank\" href=\"https://www.tensorflow.org/tutorials/generative/dcgan\">\n",
        "    <img src=\"https://www.tensorflow.org/images/tf_logo_32px.png\" />\n",
        "    View on TensorFlow.org</a>\n",
        "  </td>\n",
        "  <td>\n",
        "    <a target=\"_blank\" href=\"https://colab.research.google.com/github/tensorflow/docs/blob/master/site/en/tutorials/generative/dcgan.ipynb\">\n",
        "    <img src=\"https://www.tensorflow.org/images/colab_logo_32px.png\" />\n",
        "    Run in Google Colab</a>\n",
        "  </td>\n",
        "  <td>\n",
        "    <a target=\"_blank\" href=\"https://github.com/tensorflow/docs/blob/master/site/en/tutorials/generative/dcgan.ipynb\">\n",
        "    <img src=\"https://www.tensorflow.org/images/GitHub-Mark-32px.png\" />\n",
        "    View source on GitHub</a>\n",
        "  </td>\n",
        "  <td>\n",
        "    <a href=\"https://storage.googleapis.com/tensorflow_docs/docs/site/en/tutorials/generative/dcgan.ipynb\"><img src=\"https://www.tensorflow.org/images/download_logo_32px.png\" />Download notebook</a>\n",
        "  </td>\n",
        "</table>"
      ]
    },
    {
      "cell_type": "markdown",
      "metadata": {
        "colab_type": "text",
        "id": "ITZuApL56Mny"
      },
      "source": [
        "This tutorial demonstrates how to generate images of handwritten digits using a [Deep Convolutional Generative Adversarial Network](https://arxiv.org/pdf/1511.06434.pdf) (DCGAN). The code is written using the [Keras Sequential API](https://www.tensorflow.org/guide/keras) with a `tf.GradientTape` training loop."
      ]
    },
    {
      "cell_type": "markdown",
      "metadata": {
        "colab_type": "text",
        "id": "2MbKJY38Puy9"
      },
      "source": [
        "## What are GANs?\n",
        "[Generative Adversarial Networks](https://arxiv.org/abs/1406.2661) (GANs) are one of the most interesting ideas in computer science today. Two models are trained simultaneously by an adversarial process. A *generator* (\"the artist\") learns to create images that look real, while a *discriminator* (\"the art critic\") learns to tell real images apart from fakes.\n",
        "\n",
        "![A diagram of a generator and discriminator](./images/gan1.png)\n",
        "\n",
        "During training, the *generator* progressively becomes better at creating images that look real, while the *discriminator* becomes better at telling them apart. The process reaches equilibrium when the *discriminator* can no longer distinguish real images from fakes.\n",
        "\n",
        "![A second diagram of a generator and discriminator](./images/gan2.png)\n",
        "\n",
        "This notebook demonstrates this process on the MNIST dataset. The following animation shows a series of images produced by the *generator* as it was trained for 50 epochs. The images begin as random noise, and increasingly resemble hand written digits over time.\n",
        "\n",
        "![sample output](https://tensorflow.org/images/gan/dcgan.gif)\n",
        "\n",
        "To learn more about GANs, we recommend MIT's [Intro to Deep Learning](http://introtodeeplearning.com/) course."
      ]
    },
    {
      "cell_type": "markdown",
      "metadata": {
        "colab_type": "text",
        "id": "e1_Y75QXJS6h"
      },
      "source": [
        "### Import TensorFlow and other libraries"
      ]
    },
    {
      "cell_type": "code",
      "execution_count": 2,
      "metadata": {},
      "outputs": [],
      "source": [
        "from __future__ import absolute_import, division, print_function, unicode_literals"
      ]
    },
    {
      "cell_type": "code",
      "execution_count": 3,
      "metadata": {},
      "outputs": [],
      "source": [
        "try:\n",
        "  # %tensorflow_version only exists in Colab.\n",
        "  %tensorflow_version 2.x\n",
        "except Exception:\n",
        "  pass\n"
      ]
    },
    {
      "cell_type": "code",
      "execution_count": 4,
      "metadata": {},
      "outputs": [],
      "source": [
        "import tensorflow as tf"
      ]
    },
    {
      "cell_type": "code",
      "execution_count": 5,
      "metadata": {},
      "outputs": [
        {
          "data": {
            "text/plain": "'2.1.0'"
          },
          "execution_count": 5,
          "metadata": {},
          "output_type": "execute_result"
        }
      ],
      "source": [
        "tf.__version__"
      ]
    },
    {
      "cell_type": "code",
      "execution_count": 6,
      "metadata": {},
      "outputs": [
        {
          "name": "stdout",
          "output_type": "stream",
          "text": "Looking in indexes: https://pypi.tuna.tsinghua.edu.cn/simple\nCollecting imageio\n  Downloading https://pypi.tuna.tsinghua.edu.cn/packages/4c/2b/9dd19644f871b10f7e32eb2dbd6b45149c350b4d5f2893e091b882e03ab7/imageio-2.8.0-py3-none-any.whl (3.3 MB)\n\u001b[K     |████████████████████████████████| 3.3 MB 707 kB/s \n\u001b[?25hRequirement already satisfied: numpy in /Users/lsq/anaconda3/envs/venv/lib/python3.7/site-packages (from imageio) (1.18.1)\nCollecting pillow\n  Downloading https://pypi.tuna.tsinghua.edu.cn/packages/0c/43/b52847e473ac6cbd10a749b63018b2bb08b55c6e1a1923872361443906de/Pillow-7.0.0-cp37-cp37m-macosx_10_6_intel.whl (3.9 MB)\n\u001b[K     |████████████████████████████████| 3.9 MB 352 kB/s \n\u001b[?25hInstalling collected packages: pillow, imageio\nSuccessfully installed imageio-2.8.0 pillow-7.0.0\n"
        }
      ],
      "source": [
        "# To generate GIFs\n",
        "!pip install imageio"
      ]
    },
    {
      "cell_type": "code",
      "execution_count": 7,
      "metadata": {},
      "outputs": [],
      "source": [
        "import glob\n",
        "import imageio\n",
        "import matplotlib.pyplot as plt\n",
        "import numpy as np\n",
        "import os\n",
        "import PIL\n",
        "from tensorflow.keras import layers\n",
        "import time\n",
        "\n",
        "from IPython import display"
      ]
    },
    {
      "cell_type": "markdown",
      "metadata": {
        "colab_type": "text",
        "id": "iYn4MdZnKCey"
      },
      "source": [
        "### Load and prepare the dataset\n",
        "\n",
        "You will use the MNIST dataset to train the generator and the discriminator. The generator will generate handwritten digits resembling the MNIST data."
      ]
    },
    {
      "cell_type": "code",
      "execution_count": 14,
      "metadata": {},
      "outputs": [],
      "source": [
        "(train_images, train_labels), (_, _) = tf.keras.datasets.mnist.load_data()"
      ]
    },
    {
      "cell_type": "code",
      "execution_count": 15,
      "metadata": {},
      "outputs": [
        {
          "data": {
            "text/plain": "(60000, 28, 28, 1)"
          },
          "execution_count": 15,
          "metadata": {},
          "output_type": "execute_result"
        }
      ],
      "source": [
        "train_images = train_images.reshape(train_images.shape[0], 28, 28, 1).astype('float32')\n",
        "train_images = (train_images - 127.5) / 127.5 # Normalize the images to [-1, 1]\n",
        "train_images.shape"
      ]
    },
    {
      "cell_type": "code",
      "execution_count": 16,
      "metadata": {},
      "outputs": [],
      "source": [
        "BUFFER_SIZE = 60000\n",
        "BATCH_SIZE = 256"
      ]
    },
    {
      "cell_type": "code",
      "execution_count": 17,
      "metadata": {},
      "outputs": [],
      "source": [
        "# Batch and shuffle the data\n",
        "train_dataset = tf.data.Dataset.from_tensor_slices(train_images).shuffle(BUFFER_SIZE).batch(BATCH_SIZE)"
      ]
    },
    {
      "cell_type": "code",
      "execution_count": 18,
      "metadata": {},
      "outputs": [
        {
          "data": {
            "text/plain": "<BatchDataset shapes: (None, 28, 28, 1), types: tf.float32>"
          },
          "execution_count": 18,
          "metadata": {},
          "output_type": "execute_result"
        }
      ],
      "source": [
        "train_dataset"
      ]
    },
    {
      "cell_type": "markdown",
      "metadata": {
        "colab_type": "text",
        "id": "THY-sZMiQ4UV"
      },
      "source": [
        "## Create the models\n",
        "\n",
        "Both the generator and discriminator are defined using the [Keras Sequential API](https://www.tensorflow.org/guide/keras#sequential_model)."
      ]
    },
    {
      "cell_type": "markdown",
      "metadata": {
        "colab_type": "text",
        "id": "-tEyxE-GMC48"
      },
      "source": [
        "### The Generator\n",
        "\n",
        "The generator uses `tf.keras.layers.Conv2DTranspose` (upsampling) layers to produce an image from a seed (random noise). Start with a `Dense` layer that takes this seed as input, then upsample several times until you reach the desired image size of 28x28x1. Notice the `tf.keras.layers.LeakyReLU` activation for each layer, except the output layer which uses tanh."
      ]
    },
    {
      "cell_type": "code",
      "execution_count": 19,
      "metadata": {},
      "outputs": [],
      "source": [
        "def make_generator_model():\n",
        "    model = tf.keras.Sequential()\n",
        "    model.add(layers.Dense(7*7*256, use_bias=False, input_shape=(100,)))\n",
        "    model.add(layers.BatchNormalization())\n",
        "    model.add(layers.LeakyReLU())\n",
        "\n",
        "    model.add(layers.Reshape((7, 7, 256)))\n",
        "    assert model.output_shape == (None, 7, 7, 256) # Note: None is the batch size\n",
        "\n",
        "    model.add(layers.Conv2DTranspose(128, (5, 5), strides=(1, 1), padding='same', use_bias=False))\n",
        "    assert model.output_shape == (None, 7, 7, 128)\n",
        "    model.add(layers.BatchNormalization())\n",
        "    model.add(layers.LeakyReLU())\n",
        "\n",
        "    model.add(layers.Conv2DTranspose(64, (5, 5), strides=(2, 2), padding='same', use_bias=False))\n",
        "    assert model.output_shape == (None, 14, 14, 64)\n",
        "    model.add(layers.BatchNormalization())\n",
        "    model.add(layers.LeakyReLU())\n",
        "\n",
        "    model.add(layers.Conv2DTranspose(1, (5, 5), strides=(2, 2), padding='same', use_bias=False, activation='tanh'))\n",
        "    assert model.output_shape == (None, 28, 28, 1)\n",
        "\n",
        "    return model"
      ]
    },
    {
      "cell_type": "markdown",
      "metadata": {
        "colab_type": "text",
        "id": "GyWgG09LCSJl"
      },
      "source": [
        "Use the (as yet untrained) generator to create an image."
      ]
    },
    {
      "cell_type": "code",
      "execution_count": 20,
      "metadata": {},
      "outputs": [
        {
          "data": {
            "text/plain": "<matplotlib.image.AxesImage at 0x148e6b610>"
          },
          "execution_count": 20,
          "metadata": {},
          "output_type": "execute_result"
        },
        {
          "data": {
            "image/png": "[encoded data removed]",
            "image/svg+xml": "<?xml version=\"1.0\" encoding=\"utf-8\" standalone=\"no\"?>\n<!DOCTYPE svg PUBLIC \"-//W3C//DTD SVG 1.1//EN\"\n  \"http://www.w3.org/Graphics/SVG/1.1/DTD/svg11.dtd\">\n<!-- Created with matplotlib (https://matplotlib.org/) -->\n<svg height=\"248.518125pt\" version=\"1.1\" viewBox=\"0 0 251.565 248.518125\" width=\"251.565pt\" xmlns=\"http://www.w3.org/2000/svg\" xmlns:xlink=\"http://www.w3.org/1999/xlink\">\n <defs>\n  <style type=\"text/css\">\n*{stroke-linecap:butt;stroke-linejoin:round;}\n  </style>\n </defs>\n <g id=\"figure_1\">\n  <g id=\"patch_1\">\n   <path d=\"M 0 248.518125 \nL 251.565 248.518125 \nL 251.565 0 \nL 0 0 \nz\n\" style=\"fill:none;\"/>\n  </g>\n  <g id=\"axes_1\">\n   <g id=\"patch_2\">\n    <path d=\"M 26.925 224.64 \nL 244.365 224.64 \nL 244.365 7.2 \nL 26.925 7.2 \nz\n\" style=\"fill:#ffffff;\"/>\n   </g>\n   <g clip-path=\"url(#p2160748b70)\">\n    <image height=\"218\" id=\"imaged17e2b8217\" transform=\"scale(1 -1)translate(0 -218)\" width=\"218\" x=\"26.925\" xlink:href=\"data:image/png;base64,\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\" y=\"-6.64\"/>\n   </g>\n   <g id=\"matplotlib.axis_1\">\n    <g id=\"xtick_1\">\n     <g id=\"line2d_1\">\n      <defs>\n       <path d=\"M 0 0 \nL 0 3.5 \n\" id=\"m3dc3819d1f\" style=\"stroke:#000000;stroke-width:0.8;\"/>\n      </defs>\n      <g>\n       <use style=\"stroke:#000000;stroke-width:0.8;\" x=\"30.807857\" xlink:href=\"#m3dc3819d1f\" y=\"224.64\"/>\n      </g>\n     </g>\n     <g id=\"text_1\">\n      <!-- 0 -->\n      <defs>\n       <path d=\"M 31.78125 66.40625 \nQ 24.171875 66.40625 20.328125 58.90625 \nQ 16.5 51.421875 16.5 36.375 \nQ 16.5 21.390625 20.328125 13.890625 \nQ 24.171875 6.390625 31.78125 6.390625 \nQ 39.453125 6.390625 43.28125 13.890625 \nQ 47.125 21.390625 47.125 36.375 \nQ 47.125 51.421875 43.28125 58.90625 \nQ 39.453125 66.40625 31.78125 66.40625 \nz\nM 31.78125 74.21875 \nQ 44.046875 74.21875 50.515625 64.515625 \nQ 56.984375 54.828125 56.984375 36.375 \nQ 56.984375 17.96875 50.515625 8.265625 \nQ 44.046875 -1.421875 31.78125 -1.421875 \nQ 19.53125 -1.421875 13.0625 8.265625 \nQ 6.59375 17.96875 6.59375 36.375 \nQ 6.59375 54.828125 13.0625 64.515625 \nQ 19.53125 74.21875 31.78125 74.21875 \nz\n\" id=\"DejaVuSans-48\"/>\n      </defs>\n      <g transform=\"translate(27.626607 239.238437)scale(0.1 -0.1)\">\n       <use xlink:href=\"#DejaVuSans-48\"/>\n      </g>\n     </g>\n    </g>\n    <g id=\"xtick_2\">\n     <g id=\"line2d_2\">\n      <g>\n       <use style=\"stroke:#000000;stroke-width:0.8;\" x=\"69.636429\" xlink:href=\"#m3dc3819d1f\" y=\"224.64\"/>\n      </g>\n     </g>\n     <g id=\"text_2\">\n      <!-- 5 -->\n      <defs>\n       <path d=\"M 10.796875 72.90625 \nL 49.515625 72.90625 \nL 49.515625 64.59375 \nL 19.828125 64.59375 \nL 19.828125 46.734375 \nQ 21.96875 47.46875 24.109375 47.828125 \nQ 26.265625 48.1875 28.421875 48.1875 \nQ 40.625 48.1875 47.75 41.5 \nQ 54.890625 34.8125 54.890625 23.390625 \nQ 54.890625 11.625 47.5625 5.09375 \nQ 40.234375 -1.421875 26.90625 -1.421875 \nQ 22.3125 -1.421875 17.546875 -0.640625 \nQ 12.796875 0.140625 7.71875 1.703125 \nL 7.71875 11.625 \nQ 12.109375 9.234375 16.796875 8.0625 \nQ 21.484375 6.890625 26.703125 6.890625 \nQ 35.15625 6.890625 40.078125 11.328125 \nQ 45.015625 15.765625 45.015625 23.390625 \nQ 45.015625 31 40.078125 35.4375 \nQ 35.15625 39.890625 26.703125 39.890625 \nQ 22.75 39.890625 18.8125 39.015625 \nQ 14.890625 38.140625 10.796875 36.28125 \nz\n\" id=\"DejaVuSans-53\"/>\n      </defs>\n      <g transform=\"translate(66.455179 239.238437)scale(0.1 -0.1)\">\n       <use xlink:href=\"#DejaVuSans-53\"/>\n      </g>\n     </g>\n    </g>\n    <g id=\"xtick_3\">\n     <g id=\"line2d_3\">\n      <g>\n       <use style=\"stroke:#000000;stroke-width:0.8;\" x=\"108.465\" xlink:href=\"#m3dc3819d1f\" y=\"224.64\"/>\n      </g>\n     </g>\n     <g id=\"text_3\">\n      <!-- 10 -->\n      <defs>\n       <path d=\"M 12.40625 8.296875 \nL 28.515625 8.296875 \nL 28.515625 63.921875 \nL 10.984375 60.40625 \nL 10.984375 69.390625 \nL 28.421875 72.90625 \nL 38.28125 72.90625 \nL 38.28125 8.296875 \nL 54.390625 8.296875 \nL 54.390625 0 \nL 12.40625 0 \nz\n\" id=\"DejaVuSans-49\"/>\n      </defs>\n      <g transform=\"translate(102.1025 239.238437)scale(0.1 -0.1)\">\n       <use xlink:href=\"#DejaVuSans-49\"/>\n       <use x=\"63.623047\" xlink:href=\"#DejaVuSans-48\"/>\n      </g>\n     </g>\n    </g>\n    <g id=\"xtick_4\">\n     <g id=\"line2d_4\">\n      <g>\n       <use style=\"stroke:#000000;stroke-width:0.8;\" x=\"147.293571\" xlink:href=\"#m3dc3819d1f\" y=\"224.64\"/>\n      </g>\n     </g>\n     <g id=\"text_4\">\n      <!-- 15 -->\n      <g transform=\"translate(140.931071 239.238437)scale(0.1 -0.1)\">\n       <use xlink:href=\"#DejaVuSans-49\"/>\n       <use x=\"63.623047\" xlink:href=\"#DejaVuSans-53\"/>\n      </g>\n     </g>\n    </g>\n    <g id=\"xtick_5\">\n     <g id=\"line2d_5\">\n      <g>\n       <use style=\"stroke:#000000;stroke-width:0.8;\" x=\"186.122143\" xlink:href=\"#m3dc3819d1f\" y=\"224.64\"/>\n      </g>\n     </g>\n     <g id=\"text_5\">\n      <!-- 20 -->\n      <defs>\n       <path d=\"M 19.1875 8.296875 \nL 53.609375 8.296875 \nL 53.609375 0 \nL 7.328125 0 \nL 7.328125 8.296875 \nQ 12.9375 14.109375 22.625 23.890625 \nQ 32.328125 33.6875 34.8125 36.53125 \nQ 39.546875 41.84375 41.421875 45.53125 \nQ 43.3125 49.21875 43.3125 52.78125 \nQ 43.3125 58.59375 39.234375 62.25 \nQ 35.15625 65.921875 28.609375 65.921875 \nQ 23.96875 65.921875 18.8125 64.3125 \nQ 13.671875 62.703125 7.8125 59.421875 \nL 7.8125 69.390625 \nQ 13.765625 71.78125 18.9375 73 \nQ 24.125 74.21875 28.421875 74.21875 \nQ 39.75 74.21875 46.484375 68.546875 \nQ 53.21875 62.890625 53.21875 53.421875 \nQ 53.21875 48.921875 51.53125 44.890625 \nQ 49.859375 40.875 45.40625 35.40625 \nQ 44.1875 33.984375 37.640625 27.21875 \nQ 31.109375 20.453125 19.1875 8.296875 \nz\n\" id=\"DejaVuSans-50\"/>\n      </defs>\n      <g transform=\"translate(179.759643 239.238437)scale(0.1 -0.1)\">\n       <use xlink:href=\"#DejaVuSans-50\"/>\n       <use x=\"63.623047\" xlink:href=\"#DejaVuSans-48\"/>\n      </g>\n     </g>\n    </g>\n    <g id=\"xtick_6\">\n     <g id=\"line2d_6\">\n      <g>\n       <use style=\"stroke:#000000;stroke-width:0.8;\" x=\"224.950714\" xlink:href=\"#m3dc3819d1f\" y=\"224.64\"/>\n      </g>\n     </g>\n     <g id=\"text_6\">\n      <!-- 25 -->\n      <g transform=\"translate(218.588214 239.238437)scale(0.1 -0.1)\">\n       <use xlink:href=\"#DejaVuSans-50\"/>\n       <use x=\"63.623047\" xlink:href=\"#DejaVuSans-53\"/>\n      </g>\n     </g>\n    </g>\n   </g>\n   <g id=\"matplotlib.axis_2\">\n    <g id=\"ytick_1\">\n     <g id=\"line2d_7\">\n      <defs>\n       <path d=\"M 0 0 \nL -3.5 0 \n\" id=\"me5307521f5\" style=\"stroke:#000000;stroke-width:0.8;\"/>\n      </defs>\n      <g>\n       <use style=\"stroke:#000000;stroke-width:0.8;\" x=\"26.925\" xlink:href=\"#me5307521f5\" y=\"11.082857\"/>\n      </g>\n     </g>\n     <g id=\"text_7\">\n      <!-- 0 -->\n      <g transform=\"translate(13.5625 14.882076)scale(0.1 -0.1)\">\n       <use xlink:href=\"#DejaVuSans-48\"/>\n      </g>\n     </g>\n    </g>\n    <g id=\"ytick_2\">\n     <g id=\"line2d_8\">\n      <g>\n       <use style=\"stroke:#000000;stroke-width:0.8;\" x=\"26.925\" xlink:href=\"#me5307521f5\" y=\"49.911429\"/>\n      </g>\n     </g>\n     <g id=\"text_8\">\n      <!-- 5 -->\n      <g transform=\"translate(13.5625 53.710647)scale(0.1 -0.1)\">\n       <use xlink:href=\"#DejaVuSans-53\"/>\n      </g>\n     </g>\n    </g>\n    <g id=\"ytick_3\">\n     <g id=\"line2d_9\">\n      <g>\n       <use style=\"stroke:#000000;stroke-width:0.8;\" x=\"26.925\" xlink:href=\"#me5307521f5\" y=\"88.74\"/>\n      </g>\n     </g>\n     <g id=\"text_9\">\n      <!-- 10 -->\n      <g transform=\"translate(7.2 92.539219)scale(0.1 -0.1)\">\n       <use xlink:href=\"#DejaVuSans-49\"/>\n       <use x=\"63.623047\" xlink:href=\"#DejaVuSans-48\"/>\n      </g>\n     </g>\n    </g>\n    <g id=\"ytick_4\">\n     <g id=\"line2d_10\">\n      <g>\n       <use style=\"stroke:#000000;stroke-width:0.8;\" x=\"26.925\" xlink:href=\"#me5307521f5\" y=\"127.568571\"/>\n      </g>\n     </g>\n     <g id=\"text_10\">\n      <!-- 15 -->\n      <g transform=\"translate(7.2 131.36779)scale(0.1 -0.1)\">\n       <use xlink:href=\"#DejaVuSans-49\"/>\n       <use x=\"63.623047\" xlink:href=\"#DejaVuSans-53\"/>\n      </g>\n     </g>\n    </g>\n    <g id=\"ytick_5\">\n     <g id=\"line2d_11\">\n      <g>\n       <use style=\"stroke:#000000;stroke-width:0.8;\" x=\"26.925\" xlink:href=\"#me5307521f5\" y=\"166.397143\"/>\n      </g>\n     </g>\n     <g id=\"text_11\">\n      <!-- 20 -->\n      <g transform=\"translate(7.2 170.196362)scale(0.1 -0.1)\">\n       <use xlink:href=\"#DejaVuSans-50\"/>\n       <use x=\"63.623047\" xlink:href=\"#DejaVuSans-48\"/>\n      </g>\n     </g>\n    </g>\n    <g id=\"ytick_6\">\n     <g id=\"line2d_12\">\n      <g>\n       <use style=\"stroke:#000000;stroke-width:0.8;\" x=\"26.925\" xlink:href=\"#me5307521f5\" y=\"205.225714\"/>\n      </g>\n     </g>\n     <g id=\"text_12\">\n      <!-- 25 -->\n      <g transform=\"translate(7.2 209.024933)scale(0.1 -0.1)\">\n       <use xlink:href=\"#DejaVuSans-50\"/>\n       <use x=\"63.623047\" xlink:href=\"#DejaVuSans-53\"/>\n      </g>\n     </g>\n    </g>\n   </g>\n   <g id=\"patch_3\">\n    <path d=\"M 26.925 224.64 \nL 26.925 7.2 \n\" style=\"fill:none;stroke:#000000;stroke-linecap:square;stroke-linejoin:miter;stroke-width:0.8;\"/>\n   </g>\n   <g id=\"patch_4\">\n    <path d=\"M 244.365 224.64 \nL 244.365 7.2 \n\" style=\"fill:none;stroke:#000000;stroke-linecap:square;stroke-linejoin:miter;stroke-width:0.8;\"/>\n   </g>\n   <g id=\"patch_5\">\n    <path d=\"M 26.925 224.64 \nL 244.365 224.64 \n\" style=\"fill:none;stroke:#000000;stroke-linecap:square;stroke-linejoin:miter;stroke-width:0.8;\"/>\n   </g>\n   <g id=\"patch_6\">\n    <path d=\"M 26.925 7.2 \nL 244.365 7.2 \n\" style=\"fill:none;stroke:#000000;stroke-linecap:square;stroke-linejoin:miter;stroke-width:0.8;\"/>\n   </g>\n  </g>\n </g>\n <defs>\n  <clipPath id=\"p2160748b70\">\n   <rect height=\"217.44\" width=\"217.44\" x=\"26.925\" y=\"7.2\"/>\n  </clipPath>\n </defs>\n</svg>\n",
            "text/plain": "<Figure size 432x288 with 1 Axes>"
          },
          "metadata": {
            "needs_background": "light"
          },
          "output_type": "display_data"
        }
      ],
      "source": [
        "generator = make_generator_model()\n",
        "\n",
        "noise = tf.random.normal([1, 100])\n",
        "generated_image = generator(noise, training=False)\n",
        "\n",
        "plt.imshow(generated_image[0, :, :, 0], cmap='gray')"
      ]
    },
    {
      "cell_type": "code",
      "execution_count": 21,
      "metadata": {},
      "outputs": [
        {
          "name": "stdout",
          "output_type": "stream",
          "text": "Model: \"sequential\"\n_________________________________________________________________\nLayer (type)                 Output Shape              Param #   \n=================================================================\ndense (Dense)                (None, 12544)             1254400   \n_________________________________________________________________\nbatch_normalization (BatchNo (None, 12544)             50176     \n_________________________________________________________________\nleaky_re_lu (LeakyReLU)      (None, 12544)             0         \n_________________________________________________________________\nreshape (Reshape)            (None, 7, 7, 256)         0         \n_________________________________________________________________\nconv2d_transpose (Conv2DTran (None, 7, 7, 128)         819200    \n_________________________________________________________________\nbatch_normalization_1 (Batch (None, 7, 7, 128)         512       \n_________________________________________________________________\nleaky_re_lu_1 (LeakyReLU)    (None, 7, 7, 128)         0         \n_________________________________________________________________\nconv2d_transpose_1 (Conv2DTr (None, 14, 14, 64)        204800    \n_________________________________________________________________\nbatch_normalization_2 (Batch (None, 14, 14, 64)        256       \n_________________________________________________________________\nleaky_re_lu_2 (LeakyReLU)    (None, 14, 14, 64)        0         \n_________________________________________________________________\nconv2d_transpose_2 (Conv2DTr (None, 28, 28, 1)         1600      \n=================================================================\nTotal params: 2,330,944\nTrainable params: 2,305,472\nNon-trainable params: 25,472\n_________________________________________________________________\n"
        }
      ],
      "source": [
        "generator.summary()"
      ]
    },
    {
      "cell_type": "code",
      "execution_count": 26,
      "metadata": {},
      "outputs": [
        {
          "data": {
            "text/plain": "TensorShape([1, 28, 28, 1])"
          },
          "execution_count": 26,
          "metadata": {},
          "output_type": "execute_result"
        }
      ],
      "source": [
        "generated_image.shape"
      ]
    },
    {
      "cell_type": "markdown",
      "metadata": {
        "colab_type": "text",
        "id": "D0IKnaCtg6WE"
      },
      "source": [
        "### The Discriminator\n",
        "\n",
        "The discriminator is a CNN-based image classifier."
      ]
    },
    {
      "cell_type": "code",
      "execution_count": 27,
      "metadata": {},
      "outputs": [],
      "source": [
        "def make_discriminator_model():\n",
        "    model = tf.keras.Sequential()\n",
        "    model.add(layers.Conv2D(64, (5, 5), strides=(2, 2), padding='same',\n",
        "                                     input_shape=[28, 28, 1]))\n",
        "    model.add(layers.LeakyReLU())\n",
        "    model.add(layers.Dropout(0.3))\n",
        "\n",
        "    model.add(layers.Conv2D(128, (5, 5), strides=(2, 2), padding='same'))\n",
        "    model.add(layers.LeakyReLU())\n",
        "    model.add(layers.Dropout(0.3))\n",
        "\n",
        "    model.add(layers.Flatten())\n",
        "    model.add(layers.Dense(1))\n",
        "\n",
        "    return model"
      ]
    },
    {
      "cell_type": "markdown",
      "metadata": {
        "colab_type": "text",
        "id": "QhPneagzCaQv"
      },
      "source": [
        "Use the (as yet untrained) discriminator to classify the generated images as real or fake. The model will be trained to output positive values for real images, and negative values for fake images."
      ]
    },
    {
      "cell_type": "code",
      "execution_count": 28,
      "metadata": {},
      "outputs": [
        {
          "name": "stdout",
          "output_type": "stream",
          "text": "tf.Tensor([[-0.00121484]], shape=(1, 1), dtype=float32)\n"
        }
      ],
      "source": [
        "discriminator = make_discriminator_model()\n",
        "decision = discriminator(generated_image)\n",
        "print (decision)"
      ]
    },
    {
      "cell_type": "code",
      "execution_count": 30,
      "metadata": {},
      "outputs": [
        {
          "name": "stdout",
          "output_type": "stream",
          "text": "Model: \"sequential_1\"\n_________________________________________________________________\nLayer (type)                 Output Shape              Param #   \n=================================================================\nconv2d (Conv2D)              (None, 14, 14, 64)        1664      \n_________________________________________________________________\nleaky_re_lu_3 (LeakyReLU)    (None, 14, 14, 64)        0         \n_________________________________________________________________\ndropout (Dropout)            (None, 14, 14, 64)        0         \n_________________________________________________________________\nconv2d_1 (Conv2D)            (None, 7, 7, 128)         204928    \n_________________________________________________________________\nleaky_re_lu_4 (LeakyReLU)    (None, 7, 7, 128)         0         \n_________________________________________________________________\ndropout_1 (Dropout)          (None, 7, 7, 128)         0         \n_________________________________________________________________\nflatten (Flatten)            (None, 6272)              0         \n_________________________________________________________________\ndense_1 (Dense)              (None, 1)                 6273      \n=================================================================\nTotal params: 212,865\nTrainable params: 212,865\nNon-trainable params: 0\n_________________________________________________________________\n"
        }
      ],
      "source": [
        "discriminator.summary()"
      ]
    },
    {
      "cell_type": "markdown",
      "metadata": {
        "colab_type": "text",
        "id": "0FMYgY_mPfTi"
      },
      "source": [
        "## Define the loss and optimizers\n",
        "\n",
        "Define loss functions and optimizers for both models.\n"
      ]
    },
    {
      "cell_type": "code",
      "execution_count": 31,
      "metadata": {},
      "outputs": [],
      "source": [
        "# This method returns a helper function to compute cross entropy loss\n",
        "cross_entropy = tf.keras.losses.BinaryCrossentropy(from_logits=True)"
      ]
    },
    {
      "cell_type": "markdown",
      "metadata": {
        "colab_type": "text",
        "id": "PKY_iPSPNWoj"
      },
      "source": [
        "### Discriminator loss\n",
        "\n",
        "This method quantifies how well the discriminator is able to distinguish real images from fakes. It compares the discriminator's predictions on real images to an array of 1s, and the discriminator's predictions on fake (generated) images to an array of 0s."
      ]
    },
    {
      "cell_type": "code",
      "execution_count": 32,
      "metadata": {},
      "outputs": [],
      "source": [
        "def discriminator_loss(real_output, fake_output):\n",
        "    real_loss = cross_entropy(tf.ones_like(real_output), real_output)\n",
        "    fake_loss = cross_entropy(tf.zeros_like(fake_output), fake_output)\n",
        "    total_loss = real_loss + fake_loss\n",
        "    return total_loss"
      ]
    },
    {
      "cell_type": "markdown",
      "metadata": {
        "colab_type": "text",
        "id": "Jd-3GCUEiKtv"
      },
      "source": [
        "### Generator loss\n",
        "The generator's loss quantifies how well it was able to trick the discriminator. Intuitively, if the generator is performing well, the discriminator will classify the fake images as real (or 1). Here, we will compare the discriminators decisions on the generated images to an array of 1s."
      ]
    },
    {
      "cell_type": "code",
      "execution_count": 33,
      "metadata": {},
      "outputs": [],
      "source": [
        "def generator_loss(fake_output):\n",
        "    return cross_entropy(tf.ones_like(fake_output), fake_output)"
      ]
    },
    {
      "cell_type": "markdown",
      "metadata": {
        "colab_type": "text",
        "id": "MgIc7i0th_Iu"
      },
      "source": [
        "The discriminator and the generator optimizers are different since we will train two networks separately."
      ]
    },
    {
      "cell_type": "code",
      "execution_count": 34,
      "metadata": {},
      "outputs": [],
      "source": [
        "generator_optimizer = tf.keras.optimizers.Adam(1e-4)\n",
        "discriminator_optimizer = tf.keras.optimizers.Adam(1e-4)"
      ]
    },
    {
      "cell_type": "markdown",
      "metadata": {
        "colab_type": "text",
        "id": "mWtinsGDPJlV"
      },
      "source": [
        "### Save checkpoints\n",
        "This notebook also demonstrates how to save and restore models, which can be helpful in case a long running training task is interrupted."
      ]
    },
    {
      "cell_type": "code",
      "execution_count": 37,
      "metadata": {},
      "outputs": [],
      "source": [
        "checkpoint_dir = './training_checkpoints'\n",
        "checkpoint_prefix = os.path.join(checkpoint_dir, \"ckpt\")\n",
        "checkpoint = tf.train.Checkpoint(generator_optimizer=generator_optimizer,\n",
        "                                 discriminator_optimizer=discriminator_optimizer,\n",
        "                                 generator=generator,\n",
        "                                 discriminator=discriminator)"
      ]
    },
    {
      "cell_type": "markdown",
      "metadata": {
        "colab_type": "text",
        "id": "Rw1fkAczTQYh"
      },
      "source": [
        "## Define the training loop\n",
        "\n"
      ]
    },
    {
      "cell_type": "code",
      "execution_count": 38,
      "metadata": {},
      "outputs": [],
      "source": [
        "EPOCHS = 50\n",
        "noise_dim = 100\n",
        "num_examples_to_generate = 16\n",
        "\n",
        "# We will reuse this seed overtime (so it's easier)\n",
        "# to visualize progress in the animated GIF)\n",
        "seed = tf.random.normal([num_examples_to_generate, noise_dim])"
      ]
    },
    {
      "cell_type": "code",
      "execution_count": 41,
      "metadata": {},
      "outputs": [
        {
          "data": {
            "text/plain": "<tf.Tensor: shape=(16, 100), dtype=float32, numpy=\narray([[-0.05856662,  0.7360297 ,  0.2000067 , ...,  0.07858332,\n        -1.8604096 , -1.9488721 ],\n       [ 0.52175874, -0.87042034,  1.0033412 , ..., -0.64430255,\n        -0.30180255, -1.6389968 ],\n       [-0.67866725, -1.3457419 , -0.77791655, ..., -0.6011367 ,\n         1.5752013 ,  0.33081585],\n       ...,\n       [ 2.2217183 ,  1.6375052 , -1.1916999 , ...,  0.5441669 ,\n        -0.5283613 ,  0.7835764 ],\n       [-0.07473238, -0.7480286 ,  1.7023301 , ...,  0.8774692 ,\n         0.45393038,  0.5203701 ],\n       [ 1.3550075 ,  1.6833484 ,  0.10274648, ...,  0.59974164,\n         1.1804775 , -0.77000874]], dtype=float32)>"
          },
          "execution_count": 41,
          "metadata": {},
          "output_type": "execute_result"
        }
      ],
      "source": [
        "seed"
      ]
    },
    {
      "cell_type": "markdown",
      "metadata": {
        "colab_type": "text",
        "id": "jylSonrqSWfi"
      },
      "source": [
        "The training loop begins with generator receiving a random seed as input. That seed is used to produce an image. The discriminator is then used to classify real images (drawn from the training set) and fakes images (produced by the generator). The loss is calculated for each of these models, and the gradients are used to update the generator and discriminator."
      ]
    },
    {
      "cell_type": "code",
      "execution_count": 42,
      "metadata": {},
      "outputs": [],
      "source": [
        "# Notice the use of `tf.function`\n",
        "# This annotation causes the function to be \"compiled\".\n",
        "@tf.function\n",
        "def train_step(images):\n",
        "    noise = tf.random.normal([BATCH_SIZE, noise_dim])\n",
        "\n",
        "    with tf.GradientTape() as gen_tape, tf.GradientTape() as disc_tape:\n",
        "      generated_images = generator(noise, training=True)\n",
        "\n",
        "      real_output = discriminator(images, training=True)\n",
        "      fake_output = discriminator(generated_images, training=True)\n",
        "\n",
        "      gen_loss = generator_loss(fake_output)\n",
        "      disc_loss = discriminator_loss(real_output, fake_output)\n",
        "\n",
        "    gradients_of_generator = gen_tape.gradient(gen_loss, generator.trainable_variables)\n",
        "    gradients_of_discriminator = disc_tape.gradient(disc_loss, discriminator.trainable_variables)\n",
        "\n",
        "    generator_optimizer.apply_gradients(zip(gradients_of_generator, generator.trainable_variables))\n",
        "    discriminator_optimizer.apply_gradients(zip(gradients_of_discriminator, discriminator.trainable_variables))"
      ]
    },
    {
      "cell_type": "code",
      "execution_count": 43,
      "metadata": {},
      "outputs": [],
      "source": [
        "def train(dataset, epochs):\n",
        "  for epoch in range(epochs):\n",
        "    start = time.time()\n",
        "\n",
        "    for image_batch in dataset:\n",
        "      train_step(image_batch)\n",
        "\n",
        "    # Produce images for the GIF as we go\n",
        "    display.clear_output(wait=True)\n",
        "    generate_and_save_images(generator,\n",
        "                             epoch + 1,\n",
        "                             seed)\n",
        "\n",
        "    # Save the model every 15 epochs\n",
        "    if (epoch + 1) % 15 == 0:\n",
        "      checkpoint.save(file_prefix = checkpoint_prefix)\n",
        "\n",
        "    print ('Time for epoch {} is {} sec'.format(epoch + 1, time.time()-start))\n",
        "\n",
        "  # Generate after the final epoch\n",
        "  display.clear_output(wait=True)\n",
        "  generate_and_save_images(generator,\n",
        "                           epochs,\n",
        "                           seed)"
      ]
    },
    {
      "cell_type": "markdown",
      "metadata": {
        "colab_type": "text",
        "id": "2aFF7Hk3XdeW"
      },
      "source": [
        "**Generate and save images**\n",
        "\n"
      ]
    },
    {
      "cell_type": "code",
      "execution_count": 44,
      "metadata": {},
      "outputs": [],
      "source": [
        "def generate_and_save_images(model, epoch, test_input):\n",
        "  # Notice `training` is set to False.\n",
        "  # This is so all layers run in inference mode (batchnorm).\n",
        "  predictions = model(test_input, training=False)\n",
        "\n",
        "  fig = plt.figure(figsize=(4,4))\n",
        "\n",
        "  for i in range(predictions.shape[0]):\n",
        "      plt.subplot(4, 4, i+1)\n",
        "      plt.imshow(predictions[i, :, :, 0] * 127.5 + 127.5, cmap='gray')\n",
        "      plt.axis('off')\n",
        "\n",
        "  plt.savefig('image_at_epoch_{:04d}.png'.format(epoch))\n",
        "  plt.show()"
      ]
    },
    {
      "cell_type": "markdown",
      "metadata": {
        "colab_type": "text",
        "id": "dZrd4CdjR-Fp"
      },
      "source": [
        "## Train the model\n",
        "Call the `train()` method defined above to train the generator and discriminator simultaneously. Note, training GANs can be tricky. It's important that the generator and discriminator do not overpower each other (e.g., that they train at a similar rate).\n",
        "\n",
        "At the beginning of the training, the generated images look like random noise. As training progresses, the generated digits will look increasingly real. After about 50 epochs, they resemble MNIST digits. This may take about one minute / epoch with the default settings on Colab."
      ]
    },
    {
      "cell_type": "code",
      "execution_count": 45,
      "metadata": {},
      "outputs": [
        {
          "data": {
            "image/png": "[encoded data removed]",
            "image/svg+xml": "<?xml version=\"1.0\" encoding=\"utf-8\" standalone=\"no\"?>\n<!DOCTYPE svg PUBLIC \"-//W3C//DTD SVG 1.1//EN\"\n  \"http://www.w3.org/Graphics/SVG/1.1/DTD/svg11.dtd\">\n<!-- Created with matplotlib (https://matplotlib.org/) -->\n<svg height=\"231.84pt\" version=\"1.1\" viewBox=\"0 0 236.347826 231.84\" width=\"236.347826pt\" xmlns=\"http://www.w3.org/2000/svg\" xmlns:xlink=\"http://www.w3.org/1999/xlink\">\n <defs>\n  <style type=\"text/css\">\n*{stroke-linecap:butt;stroke-linejoin:round;}\n  </style>\n </defs>\n <g id=\"figure_1\">\n  <g id=\"patch_1\">\n   <path d=\"M 0 231.84 \nL 236.347826 231.84 \nL 236.347826 0 \nL 0 0 \nz\n\" style=\"fill:none;\"/>\n  </g>\n  <g id=\"axes_1\">\n   <g clip-path=\"url(#pcea46ac4d1)\">\n    <image height=\"48\" id=\"imageeff91d9305\" transform=\"scale(1 -1)translate(0 -48)\" width=\"48\" x=\"7.2\" xlink:href=\"data:image/png;base64,\niVBORw0KGgoAAAANSUhEUgAAADAAAAAwCAYAAABXAvmHAAAABHNCSVQICAgIfAhkiAAAA/5JREFUaIHtmc0vK20Yxn8zyqg2TUgbohILjQiLCrES6UoiNhIRJBL/grXYSIQ1K1YWllbirNhJLCysJIqIiEo1vlrUZ0ufdzHvM1V6nGlxvPNyJWKSPl/3c90f19yjAAILQ/3qA7wXPwZ8NX4M+JtQVRVVzTyypQzIBtt7JiuKAoAQn5OJ5fqFhYUAPD4+vhrzvRkYGhoCIBAIAFBUVATAzMwMOzs7AJycnAAQj8dJpVIZ8+UNP3+WbNpsNurq6oD0zW9tbX2sAZ2dnQC0tbUBUFBQAEBDQwPhcBiA6+trwxCbTd9ucXERgGAwCMD9/T0VFRUAnJ+fG/9LS0sB2NvbyzDuOSzvQgp5aiFVVbm8vAQgmUwCoGkaAOvr6ywsLABQXl4OQFNTEy0tLcZcgFAoBMDq6ioulyvjt/n5eTY2NjLGyX0yzpHP4f9LyDsG6uvrubu7A+D09BSAsrIyAOx2O8vLywCcnZ0BUFVVxcjICACtra1A2qdjsZgR4M3NzYDO3NXVFQBPT0+/PUfOLiQDdXJykq6uLgAikQgAfr8fgFQqZbjQ8PAwAOFwmOLiYsMYgJKSEsPggYEBAPr6+gDY399ncHAQSGef/2UQ5+xCMhXa7XYjVUr6ZQBqmkZ/fz+gBy/o7MiUur29nTHe4XDQ09NjrAvg9Xo5OjoC3q7034+Bh4cHQK/CMm3KIjQ1NQXolVnqF6/XC+hVWs6VkMxpmmbEj6zIExMTXFxc/PE8lmcA9Cz0IX8+n0/4fD4RDAZFIpEQiURCRKNREY1Ghd/vfzVeURShKIro7e0V8XhcxONxEQqFRCgUEqqqmtrzXVroJQ4ODgCYnZ2lo6MDgMPDQ0CvEU6nE4CbmxsgLf6mp6dxOBwA3N7eArwSfr+D5V0oby30Fux2uxHE8mY1TTNuXlZYWdgikYjxLAtgd3e3qb1+GDC9kaIYKVLKEcmSLFgA1dXVAIbS/RM+NIjfghDCqKgyQKUWSiaT7O7uAuYPLmF5F/prDGTD2NgYAG63m1+/fuW1huUZMB3EMgArKysB/UXlpbYxvem/a0mt43K58Pl8QPoF3iwsz4DpGHj+wg7gdDppb28HYG1tLadNpfaXRS4Wi+V88xI5u9Dx8TEAHo/HSIvSuGxdg2xryIosXdDj8WRtG5rB93EheduymxYIBF7daE1NDZBWoJC+9aWlJcPlJObm5oDsTVuzsDwDOWuh2tpaQH8xf96czQWSzZcfK/JB3mLO7XazublpPJs5kNQ5smn7Ed8Vvp8LZYPs5aysrADQ2NhouNfo6CgA4+Pj790mK34YyLqoonzad7OXsD4DiqII+LwvjZ8Nm+zNmJXG2XL/Vxgvm8yWd6F/ANI9p1BJ4R+FAAAAAElFTkSuQmCC\" y=\"-6.469565\"/>\n   </g>\n  </g>\n  <g id=\"axes_2\">\n   <g clip-path=\"url(#p529b4f4737)\">\n    <image height=\"48\" id=\"image5da34743e7\" transform=\"scale(1 -1)translate(0 -48)\" width=\"48\" x=\"65.426087\" xlink:href=\"data:image/png;base64,\niVBORw0KGgoAAAANSUhEUgAAADAAAAAwCAYAAABXAvmHAAAABHNCSVQICAgIfAhkiAAAA4tJREFUaIHtmr1LK0sYxn+TzbrBjyQobqMS0EL8QMFGsLJMIxgLLeysrCNapLqljZZ2ChY2AfMnWBgbK4sgRFALxUj8CopGWXfdW4TZ6CF6jnH3QO7NA2HDMMwzb95n5/2YCMDGAyiKAoBlWV4s78Dn6ep/AX4vFlUUhcXFRQDW1tYAeHh48ILKGwOEEExNTQFg2yWFrqysYJqm61x1CVWCZVlomgZAb28vAIFAgMfHR9e56h6oBE3TeH19BSAcDgPQ0tJS98BnsN3+dHV12fl83s7n83Yul7NzuZy9sbHhOg9gCzyIxEIIEokEAPPz8wD4/X46OzsBd6NzzUvIEw8ANDQ0ALC9vQ1ANBqlu7sbgPPzc9d46h74HcbGxgDY29vj9vYWgPb2dtfW99wAmVa/z4OkvGSs+AlqXkKuGODz+fD5Ki9lWRaWZXF3d+eMxeNx4vG4G9S17wFwIRqqqmqrqmoLIWwhRMU5MzMztoRpmrZpmq5E4pr3wI9OISHEh+fb29uncxsbG3l6egLKJ5KqqtVSO3AlnZYGfIVwOOyUl36/e1l8XUIAPT09H8bPzs4wDOPDmKqqXFxcAOVILIud+/v7arfwP/eAxObmJgCzs7NAqQcUi8UA2N3ddeYtLS0BsLy8DMDq6ioACwsLVXO7YoDcbDKZBEqROZPJADA6OgqAYRhOh+Lg4ACA09NTAAYGBqrmrnkJKcA/P10km82SzWYxDIOdnR1GRkawbRtN08hkMkQiEW5ubmhra0NRFGKxGMViEV3XCYVCDA4OkkqlquKueQ+4Wg/IAJVIJBgfHwegUCgAkE6nSafTAExOTgIwNzcHQGtrK5FIBICrq6tvcda8B1ztzMlcKJVKMTQ0BEB/fz8ATU1NTk1wfX0NlAIegK7rrK+vAzAxMfEtTldzoUAgAJQisxyTETkYDDrHpTRAHqPDw8OO5ILBIPDn9wl1CUE5LdZ1HYBQKMTx8TEAh4eHAHR0dBCNRoHSSwtQLBaBUuEvU+y+vj4A9vf3/4i77gEo61y+lMlk0jlSZT90enraSTmam5sBnJe6UChwdHQE8O0WvCen0MvLizN2cnIClO4Mnp+fgbLktra2gNJF4OXlJfD9XlHNS8jzzpyEpmmOnGRtLKPuV7X071D3gJf4teshmwLyCf8BD3hyS+kW3v/Sn8H/t/5V8hWEEBU3+6uE3ktJfq95Cf0LAJ6bz5C34kMAAAAASUVORK5CYII=\" y=\"-6.469565\"/>\n   </g>\n  </g>\n  <g id=\"axes_3\">\n   <g clip-path=\"url(#paa91ca0a09)\">\n    <image height=\"48\" id=\"image7509942242\" transform=\"scale(1 -1)translate(0 -48)\" width=\"48\" x=\"123.652174\" xlink:href=\"data:image/png;base64,\niVBORw0KGgoAAAANSUhEUgAAADAAAAAwCAYAAABXAvmHAAAABHNCSVQICAgIfAhkiAAAA0hJREFUaIHtmb1LI1EUxX8ziY6KXyBaiCMBBVE0CGIq0crCIhbi/2Dtf7BgITbWWtnaiJWKVgqCglgIEgRtxRijwU9GJs7bYngzCSQumzwJszsHHoTJZE7uO+fe+26iAYIAQ6/1F6gWYQC1RhhArREGUGuEAdQaURUPiUQiAKysrACQTqdZXV0FwHEcFRRlESoAMD4+DsDi4iLg7npjYyMAS0tLKijKIvAKaCg4jfb39wNwdXUFuDlxeXkJwMjISLWP96Dr7n4X5pWSAOrq6gD4+PgAIBqNIoT72KamJgAsy6qWpmQAoYUKcXBwAMD09LR3bX9/H4CZmRlPFZUIvALgKqBkGYYhDMMQj4+PQsK2bWHbtpiYmFDGU7hCBUqt4eFhkc/ni1YmkxGmaQrTNJVyKU3iQpydnQEwOjoKuKU1l8sB0NHRAaAkqQNvoR9TYGBgAIDT01MA2tvbvQY0Pz8PwPb2dtU8oQLl0NvbC8DGxgYAU1NT3nuZTKbonnw+XzFPBPhV8ae/geM4WJZFIpEgl8sxNDSErusIIbAsC03TuL+/Jx6Pk0qlKh58Am8hJQNNKchS2dbWBrg2+fr6AsC2bQAWFhYAmJub4/DwEID19XXAP9n+CaEC4M8DhmEA0NXVxeTkJADPz88AZLNZb8yUs0E06tK3tLQwOzsLwMvLCwCbm5ueCt81vMArUFUZjcViAKytrQGQSCQA+Pz85Pb2FoDz83PAzYmxsTEAGhoaANjd3QVgeXnZK62Fu93a2gr4+SBz5+3tzbunYgtpmubV8cHBwSJCx3FIp9MAbG1tAWCaJt3d3YDblcHvxDc3NyU5ZNLLjWlubgbcwUn2jsBbqGIFhBBcXFwA8PT0BLi7DO7wLV/39fUBcH19zc7ODgCpVArwLVQO0jrHx8cAXhGQVoL/WQGA19dXAB4eHoqua5rmNbB4PA7A3t4eJycnALy/v/8Vj/S75CviQsFhLplMAn7Cyr4AcHd3B7iJLnuCSvzfFpKQySiTNJlMer+iHR0dAfzI7sM/oIDSgaazsxNwlejp6QH8JM5ms6poihAqUAjp+1gs5lUieUyQxwLV0HRdF6DmvywZQH19vXdUlt30p/4rC7yFfgOuxKBlvuP2mAAAAABJRU5ErkJggg==\" y=\"-6.469565\"/>\n   </g>\n  </g>\n  <g id=\"axes_4\">\n   <g clip-path=\"url(#pdcd922e0f8)\">\n    <image height=\"48\" id=\"imagefddc0ed416\" transform=\"scale(1 -1)translate(0 -48)\" width=\"48\" x=\"181.878261\" xlink:href=\"data:image/png;base64,\niVBORw0KGgoAAAANSUhEUgAAADAAAAAwCAYAAABXAvmHAAAABHNCSVQICAgIfAhkiAAAAttJREFUaIHtmD9LOzEYxz9pbYutPSsHSu2iSwcH34KLoFSHQt+Bm3Tr5gtxcxLFWZzEQUHBwcnNUU4oKnSo/3q2tXEoifZnQWiTn5zeB46GozzfJN/nkicRgCTARH66A8MyYiOoEILFxUUAjo+PAWi32zakEFhIoXQ6TbVaBaBcLgOwvb1tWgb4BSlkZQC+75NKpUilUhQKBQqFgg0Z4Bc4YOUjjkajun13d2dDQhM60I98Po8QAoC5uTkbEhorA3h6etLtdDptQ0ITplA/np+fddt1XRsSmtCBfuRyOaTsVii3t7c2JDRWHNjZ2UEIgRAC13VxXZfJyUkbUsFPIaMDiMfjxONxkskkUkqklDSbTZrNJgsLC0Sj0Z5d2gShA59Rs72+vq4dcBwHx3EoFotks1my2axJyeA7YOVEBnB+fg7A9PQ0AI7jcHp6CkCxWASg0+kMrWNtALlcDoDLy0uguyP7vg/A2NgYAG9vb0PrhCn0HQcHBwCsrq7qGR8fHwd6a6ZBCR34DrVs3tzc6HelUgmA/f39oeNbKeY+U6vVgO4hx3EcAGZmZozFD1PoO/L5PABXV1f6nHx4eAjA8vLy0PED74C1y91MJgPAxsaGfqc4OjoypvW3HVCzqn5HR0cBmJ2dpVKpALC0tPRVdMSc8QNHikQiJJNJ4KPj6ti4srLC/Pw8AC8vL0Bv4ba3tzeo7Nd+GIv0QwzsQKfT0bVMo9EAuq4ATE1N6TJapYuUklarBcDDw8PgPf6Hv+sAoO9+VJV5f38PwMnJCWtrawDEYjH9n+vrawAeHx+Hke3B6D6gBuR5nv6wVQq12202NzcBMwcZReBTCLq1kNFnYmJCep4nPc+T9Xpd1ut1ubu7KxOJhEwkEka1Au+AlVrI9322trYAuLi4AODs7IzX11fjWoF3wMp5IBaL6TJDbXKtVkuvUiYZUZetRu5oIh+Gqjsgk0tmX02r0f8D768cFKJ04T+iAAAAAElFTkSuQmCC\" y=\"-6.469565\"/>\n   </g>\n  </g>\n  <g id=\"axes_5\">\n   <g clip-path=\"url(#p13307ac79f)\">\n    <image height=\"48\" id=\"image6ee01c8ac0\" transform=\"scale(1 -1)translate(0 -48)\" width=\"48\" x=\"7.2\" xlink:href=\"data:image/png;base64,\niVBORw0KGgoAAAANSUhEUgAAADAAAAAwCAYAAABXAvmHAAAABHNCSVQICAgIfAhkiAAABB9JREFUaIHtmTtIK1sYhb88Ji+NRdJERfHRWKQQSeEDQRsfWFjYWGhlq0gKS1FBULCzsLIRUUyljY1Y2CmCiFoF30/UKD4KjSSZucXcPeM9x3NNYuScObpgmDCZvWfv+dda+9//mAAFA8P8uwfwUXxP4HfD8BOwZrIzk8n00zVF+VyPMHwE0p6Ay+UiHA4TDoeJx+PE43FkWf7lMTExgdvtxu12Z3L8xo+AiRQXsry8PADOz8+1a4Lnz8/PANzf32O1qvJyuVwAOBwOYrEYAI+PjwA0NDQAsL29ne74U5/A3t4eAKWlpdq14eFhAPr7+3/Zzuv1Mjk5CUB9fT0AZrNKgMPDQxobGwG4vLxMZThfkEK3t7cAeDwejTJZWVlA8pZps9kAmJubA6ClpYXT01MAKioqAJ1m78HwEQA1AkkfgUBACQQCyu7uruL3+xW/359S+9eHJEmKJEnK8fGxEovFlFgspgSDQSUYDKbST3oPt1qtit1uV+x2u2I2mxWz2Zz2RKanpxVZlhVZlpVIJKJEIpGk2xqeQimL+DWEDfp8PgByc3MB2NzcRJblpPupqalhZWUF0E1C9PnuGJJ+yh+KD2Wj4i17PB4AOjo6AIhEIpycnLzb3ul0AlBcXMzY2BgAU1NTKY3ha0dAYH9/X+3s3/wnFArR1tYGwMXFxU/3C+20trYCsLa2xuzsLEBK2oEPiljAYrEAaLTx+Xzc3d0BUF5eDsD19bWWSnd1dQFo+U9nZ+ebE00G3xQCPQe6uroCVDv1er0AHB0dARCPxzXqiPuXlpYANf1OF98RAF147e3tACwsLFBWVgbo+hBnUKMBsLy8DEA0Gk372RkRsYCgSEFBAQMDAwCaG+Xk5GjU2djYAHQXSlfA8BdQKKMREHUhsR4A2O12AIaGhmhqagLQNi+Dg4MArK+vp+z/At8RAP3Ni7ftdDq1LWEikdD+EwuX0MfOzg4Avb29PDw8pPVMw0cgZRt1OBwANDc3U11dDUBlZSUAJSUlgFoaGRkZAWB+fh5QF6/8/HwA/H4/AEVFRdo9i4uLgG6x70E4WtIUEsIcHR0FoLu7W6suvFXUFUWsUCgEqHlSX18fAJIk/WcQW1tb9PT0ALC6ugro1HsPX4NCJpNJC3tdXV1SHYu3LDY5b0FE4ObmhqqqKgDOzs4AdVMk6k7/Z7GGj0BSGrDZbNTW1gJQWFgIqNvIg4MDQBU06MVan8+ncVjYqclk0nQ0MzMDwPj4OKAWioU5CDgcDq0wLOqlT09P6U3AYrFoyZgQ52d9eRGGIEkS2dnZgO5MLy8v2hj+mnUgo7lQpvFjbiVYkEgktN+Gj0BGv1JmGkJn4iwi8XqRM34EBM8++3vuR/Bjtmu1WnV9CP+NRqN/3CTEFlVQRxSPX18zPIX+AX/R6JUfNoW5AAAAAElFTkSuQmCC\" y=\"-63.193043\"/>\n   </g>\n  </g>\n  <g id=\"axes_6\">\n   <g clip-path=\"url(#pb1496cd24a)\">\n    <image height=\"48\" id=\"image918331f49d\" transform=\"scale(1 -1)translate(0 -48)\" width=\"48\" x=\"65.426087\" xlink:href=\"data:image/png;base64,\niVBORw0KGgoAAAANSUhEUgAAADAAAAAwCAYAAABXAvmHAAAABHNCSVQICAgIfAhkiAAAAw5JREFUaIHtmT1LK0EUhp/ZKEYRLRQMKgiigmglCGrlLxAhdjaW/gF/gI2tnb2NrYjYaqOFiFgIIio2Nn4gCBE/cHb2FsuZJLIXczMTLnvvPpAim90zZ+Y9Z/bkjAIiUkzwtx1wpaneBwuFAm1tbQDc3t56c+hPUdQZQu3t7ayvrwOwsrICwMvLizfHkmhqitc7DEOiKHY79SFUtwIAIyMjAPT19QFweHgIwNfXl7tnNZJ6BepOYoCrqysARkdHATg9PQVgamqKt7c3R9dqI/UKOOWAMD4+DsD5+TkAWmuam5tdzdaElwkIsrUBtLa2AvDx8eHLfCJZCFXy/v4OQD6fZ3d3F4C5uTlf5hPJFKikv78fgLu7O0qlEgAdHR2+zCfidQL5fB4ohxJAEMQiVyb4n6KUqvpeaSsLoSSMMXbVzs7OAJiYmPA9DPAPKACxAl4/XV1dkaC1jrTWUbFY9D4OEKVegYbkAMDy8jIAq6urAHR2dlIsFgHY29vzNk7DJiDMz88DsL29jTEGgFwu581+FkI/IauttbbXlpaWANjc3HS2n3oFoAFbW9Ln6OjIbq1hGEZhGPqyXf/DSqlIKVXTvUNDQ3YCxpjIGJO9B8ChKxEEgS2fpfp8enr67f3Dw8O2ipQ6SRI8DMN63Uh/EtetQC6Xsys3MDAAlFf28fHR3ifXFhYW7DXZUl1WXki9Ak4vMmmdzMzMADA9PQ3AwcEBl5eXQNylA9jZ2bExL60Wed4Fp9bi5+cngHV2cnISiAs5aYVL00spZZN4dnbWZdgqUh9CTgpIdfnw8ADAxcUFAIuLixQKBaB86FEqlaxSx8fHLsNW8X8rIIgS9/f3QHz8JOdnNzc3AKytrbG1teVjuCq8TECSs7e3F4Du7m7bI+rp6QFgf3/fJr1PshCCsgJyYqO1tmH1/PwMlBPdN5kClcgqn5ycMDY2BsDGxgbgp+5JIvUKeP1TL+XD4OCgbatfX18D8Pr62hAVVBAEEZT38h8fqGh1f297ywRaWlrsb1K4GWPsBFxa7d9JfQj9AvovqwiueqwOAAAAAElFTkSuQmCC\" y=\"-63.193043\"/>\n   </g>\n  </g>\n  <g id=\"axes_7\">\n   <g clip-path=\"url(#p4299bf86dd)\">\n    <image height=\"48\" id=\"image4dff57c1cb\" transform=\"scale(1 -1)translate(0 -48)\" width=\"48\" x=\"123.652174\" xlink:href=\"data:image/png;base64,\niVBORw0KGgoAAAANSUhEUgAAADAAAAAwCAYAAABXAvmHAAAABHNCSVQICAgIfAhkiAAABClJREFUaIHt2E9sTF0YBvDfnVs1VIW0FGkQ6aIRRJdCw0JsLEnEWiwlQmz5YmdnY0vEgoytaCSqsSAhqX8LEpJSqpX6O8FUqnq/xeTcMV98/XQ688mkfZKTO8ncc99zzvO+z/u+J0KijpH50wuYKeY28KdR9xtoqHRiFEVWr14N3r59C8bGxkCS/H+6UPcMUJTRaY/9+/cn+Xw+yefzycjISDIyMpL09PQkPT09yYYNGyr6ZiWj7hmITDORRVEEbty4Ydu2bWBychLEcQwKhYJz586Bo0ePgomJiaos+J+I8VclE3O5nDiO3bp1S2Njo+HhYS0tLSYmJmSzWRs3btTV1SWOY93d3R48eGB8fDw9gGph9rnQVNi8eTM4ffq0TZs2gXv37oHBwUF9fX3g2rVrKMnvTDDHwK+wa9cux44dA0NDQ6Cjo8OSJUvA8PAwOHnyJLh9+3bFya/iTDwVrl+/bunSpWDv3r1g3bp1RkdHwfPnz8GKFStAW1ubDx8+gPHx8WnZmnOhf8PChQvBpUuXwI4dOwwMDKCUG549ewYWLVpk1apV4M6dO+Dz58+/ZafuGahJDMD379/Bw4cPwdatW9MktnLlSvD+/XvQ1NRk+/btYOfOneD48eO/FQ91z0DNYiCTKZ5NV1cXOHv2rLa2NvD69WuU2BkaGkp7i5s3b4LLly/78uXLf9qpiQvNnz8//f3y5UswMDCgs7MTLF++HKxfvz797+LFi+DKlSsoNkfB5abKEXXvQlVhYMGCBeDChQugtbXV4cOHUZLKXC6XBui8efPKnnEce/ToEfj06ROKJXpgIDxD2f4zZi8D2WzWqVOnwJYtW0B7ezu4e/eud+/eodTI3L9/35s3b1AsKyiVDb29vfr7+1F+ysH3AwNBGH5+Z9obaG1tRVE5GhsbUVKVUPf09/enRoObtLe3a2pqKlvY169fUSy5QzcX3v/x40dqM5vNlm3kZ3WafS508OBBlEtloPbx48coZuFwWh0dHeDEiRNaWlrKvjU4OIiidH78+BEll0uSRENDcXmhsg2MFwqF1GbdMzDtTByaktHR0dRfC4UCOHDgAOjr60ul9ciRI2Dfvn1lc6G7uxu8ePFiSpshPsKpJ0mSxtPsYyBgz549crkcSqoS1OHp06dpPR/89tu3b6ns9vb2ls2raOEhyalwA5lMxvnz58Hu3btRbEzCwkJGDUF/9erVmlxuzV4XgubmZhQlEmn9E0WRfD4Pli1bhvLEVE3MbgZCIIVmJDQozc3N6X3QmjVrZrjEqTGjcjqoyKtXr8CZM2fAoUOH0hxRa9S9C1WloQnlbbgqHBsbSyX1VyVwNVH3DNTkVmLx4sXWrl0Lnjx5gtI9UbUxx8CvkMlk0i4qnHzNGIjjOC1XZ4ooitIxOTlZ3rs21OYWs+5d6G/FDMAvf9hR6wAAAABJRU5ErkJggg==\" y=\"-63.193043\"/>\n   </g>\n  </g>\n  <g id=\"axes_8\">\n   <g clip-path=\"url(#p08fd093a37)\">\n    <image height=\"48\" id=\"imageb012a5a4b7\" transform=\"scale(1 -1)translate(0 -48)\" width=\"48\" x=\"181.878261\" xlink:href=\"data:image/png;base64,\niVBORw0KGgoAAAANSUhEUgAAADAAAAAwCAYAAABXAvmHAAAABHNCSVQICAgIfAhkiAAABFFJREFUaIHt2TtoFGsUB/DfrpuNiQaJEjUSDBoLH9EggoVvLGxsVMQHYmFnYSWIFhY2FmInNpY2QhCxsXCNIIqgC2IjiPhWfCJEcMVHjDu3GL8ZI6LZjbm5e9c/LLOzs3O+c77zPl8GkRpGdqwZGCn+CjDWqHkBciN5ubOzE2zbtg0Ui0Vw/fp1nz9/BlEUx4hsNiuXi5cL148fP4JMJqNcLlfFQ/1pYNy4cWDHjh3a29sR7y48ffoUNDQ0JDs/MDCQvDt//nzQ0dEBzp8/D75+/VoV8/wPNJBRYSJrbm4Gg4ODQ3b3twtlMvbs2QMOHToEli9fDu7cuVMJC0Pp+hcz8cSJE0F/fz84e/Ys2Lp1a9U068+E/gQ+ffoE3r17B2bMmGFwcLAqWjWvgTERoKurS1dXl1KppFQqaWtrq5pWxXkgk8kgzbDV4Pnz5+DBgwfg4cOHmpqaqqJV8yZUsRPPnDkTlMtlz549G9Hi3d3d4NatW0mGr7QmqnkNVOwDofLcvn27gwcPgr6+vpjYtyqzu7s7qY9u3LgBPw2T9+7dS76HJBdC63BRfxpYvXo16OnpcerUKaSlQOgH2tvbHT9+HEyePBksWLDA48ePh9AKkezDhw/mzJkDbt68OToChPC5cuXK5H7ChAlI1R6uly5dUigUwIYNG8DevXsdPXoUqTkdPnwYcYG4b98+xKZZCerHhGbPng3JrpM2IlOnTkXqiFOmTPHy5csh/1m8eLEzZ86At2/fgrlz5ya0Nm7cWJUA9aOBNWvWIPWFcrns7t274MKFC5A08i0tLYnzTpo0CSxdutSLFy/A5cuXETf/cODAAQ0NDUgTZWhP/5gAT548SRgn7oPv37+PtDwOz/r7+xNBQz7IZDIePXoETp48Cd68eQMWLlxo/fr1YNGiRRUJUD8mdOXKFfDlyxfQ2Nho7dq1YPz48YjjObFGjhw5gnQSce3aNb29vZDUUNOnTwfz5s1LcsKKFSvAuXPnhsVX/WggTCBCLXT69OkkbJ44cQKSZDQwMJA4ZXhWKBSSkBoamJ07d4LW1taKJhzfo+Y1UHVT39vba/PmzeDVq1dIbbutrS3Z5WDbfX19SWWaz+fBkiVLQFNTk1mzZoGLFy+C3bt3j64A+Xze/v37wevXr5GaxLJly5Lw+T1CmA35IIThQqGQhNFjx44hNtHhoH5N6KfEviWvzs5Ot2/fhiHNejCn9+/fI01kzc3NWltbkU7tOjo6htVe/tXA7xA0sG7dOj09PYirVdi0aROYNm1a0o4GrFq1ytWrV4e1RjRWn2w2G2Wz2WjXrl1RsViMisViVCqVolKpFG3ZsiXK5XJRLpf7NY1hifgfxpgMd3+FMB/K5/OJ04drqMNIA8ZfDYwmgmO3tLRg6BQjOf0cG9b+HEZ0Tjza+DGRNTY2Iq52w7NccJpqjjp/HLWHe9JW8ntHrHYkH0rt0F+Xy+Xkt5o3oX8AnxLMeTUDAd8AAAAASUVORK5CYII=\" y=\"-63.193043\"/>\n   </g>\n  </g>\n  <g id=\"axes_9\">\n   <g clip-path=\"url(#peb9fb08598)\">\n    <image height=\"48\" id=\"image893cc7578c\" transform=\"scale(1 -1)translate(0 -48)\" width=\"48\" x=\"7.2\" xlink:href=\"data:image/png;base64,\niVBORw0KGgoAAAANSUhEUgAAADAAAAAwCAYAAABXAvmHAAAABHNCSVQICAgIfAhkiAAABEBJREFUaIHtmUsofG8Yxz/njJkm4/JLbiUUpYZSmpJ7JFm6pGRhIZKFKAusLFySNVaykg0bNspGSkRK2QpRilxiMIZxOf/F/N/34De/MYaGkW+dOs155nmf5/0+7/N+33MUQCOIoX51AB9F0CcQEsjBoqOjAVAUBYCzszMAnp6e/PYZ9AwoBHART01NAVBYWAhAZmYmACcnJ377/GXAV6iqit1uB8BkMgGQkJAAwOnpqf9+Px7a1yJgXSg9PR2LxQKAprlJv76+/hTfmj+XqqqaoigvLm/2ExMTmoDT6dScTqdf4/4Vx6dMwRfCawmpqjs/s9lMREQEAMnJyQC0tbWxu7sLwPj4OAB7e3v/9JWWliZL5zPxsxkQW77VaiUrKwuA5uZmAFJTU7m7uwNgc3MTgP39fYAXMy18OBwOeX91dRWYBEQg1dXVFBcXA5CSkgK4e7nD4ZDPAZaXl2WAIrn4+HgAcnJypF+hiT4DP7uEDAYDAGFhYcTExABweHgIuBe4UJNlZWUALC4uArCwsEBvby+g9/rh4WE6OzsBvazMZjMAt7e3ficQ9Ax41UJiprKzs6moqABgY2MDgMvLS7lGhJ4Xz87Pzz36W1paAqCgoADQGSspKfE7gZ/NgIDRaJTKUWj47e1t2TZvbm4A3tyoBKMPDw+Avj7+/Pnj9ybnEwMPDw/Y7Xbsdjs2mw2bzUZTUxMmkwmTyYSmaT4FIOx6enro6enBYrFgsVhwOp1+Be9zAt8ZPpWQoiiyjQ4ODgKQn5/P5OQkAAMDA8D7D+di5s1mM7OzswBUVla+y0fwM/C/jvdaw0ajUTKQm5sLQGNjI6mpqQBsbW0B+qF9enrap81peHgYgNbWVh4fHwEICXnfGctrAkajEYDQ0FDCwsIASExMBKC2tpaamhoAYmNjX9griiIDmpubA6Cqqkr+JhAXFwfAwcHBi10f9M72Fn5mCYmDTGRkJOCWzmKGLi4uALfKzMvLA6CjowPwrjJdLhelpaUArK6uvrDf29uT7I2MjADQ3t7uUwLBzwAe2qhgIDQ01G2kKH/pHrPZLGewq6sLgIaGBmnvCWINtLS0ALp2mp+fJyoqCtAPOzExMdzf37+ZwM9kwBcYDAb5hk3AarUC0NfXR3l5ubR7DfEmbmhoCIC6ujr5X9FG6+vrmZmZAXTt9LoKPpTA8zLx1IJFGYqj5NjYmCy5g4MDALq7uwH3Yu7v7wcgPDwcgNHRUdbW1gC9Te/s7ACwvr6Oy+Vyj+NP8N8Jfr9afEt9CppXVlYAyMjI+KetyWSiqKgI0A83Z2dnUm4fHx8DnmV70DMQ0A8c3pCUlAToanR2dpajoyNAX8Se1O63SUBAdK3Xuuk1RJP4LaGvwo9hIKDfiT8TopX+MvAVUBRFSpkQIZ5Er/3MQZ5DVVXZIl+/4FJVVbZNURqapkm7Z8HKZ+I+6EvoP6yexymYSGUJAAAAAElFTkSuQmCC\" y=\"-119.916522\"/>\n   </g>\n  </g>\n  <g id=\"axes_10\">\n   <g clip-path=\"url(#p74561452ae)\">\n    <image height=\"48\" id=\"image07ed399bb6\" transform=\"scale(1 -1)translate(0 -48)\" width=\"48\" x=\"65.426087\" xlink:href=\"data:image/png;base64,\niVBORw0KGgoAAAANSUhEUgAAADAAAAAwCAYAAABXAvmHAAAABHNCSVQICAgIfAhkiAAABNFJREFUaIHt2U1sjN0bBvDfTKediTIaxEeJ6CihIS0RabAQEUlJJIJImnRhRywkVmJvLXYsRCQEK5F0I7GSiI1EfEUQRIgaKq2Pqk6ZeRfznmfqr/92pup9Tbz3ZibnOc99Pq77Ovd17ieGgiq2+L89gZ+1f3QBiURCIpGYXJ+T6m0MW7Bggfb2dnDlyhXw8ePHn/Zb9SEU84tJHIvFwJkzZ6xZswY8ePAA7Nq1CxQKE59C1SPwyzlQU1MDWltbZTIZ8O3bNzB9+nTQ398/Yf//ITCeTZ06FTQ3N6utrQULFy4Eu3fvBmfPnjU0NATy+XxF/n/5AmbNmgWGh4ejBQwODoK1a9eCpqYmfX194Pz58+Dly5dl+a/6EPplx2ggaDxe3KP29nbLli0DdXV14NatWyiGUkAj2OrVqyOyj2X/ITCaJZPJSPOEeC8UChEa4VkgeFdXl0OHDqHIFWhraytLakwqAo2NjRobG3V2dqqpqYlyQFhAPp+Xz+flcjm5XM7g4KDBwUFz5sxRX1+vvr5eOp2WTqfNnz+/rDGrPoQmfIzW1dVZunQpikoTOjo6wNDQkJaWFvDo0SMwMDAQkTLoo3Q6DZYvXy6VSqFE+h07djh+/Dj4/Pnz/51H1SNQMYmfPXsGFi1aFLW9efMGRcVJMUEtXrwYfPr0CXR3d+vu7gbTpk1DSY3u3LnTlClTUEKgp6fHpk2bwMOHDzG6aq16BMrmQDgVRu58sGw2Cy5evBj13bBhA0o7umTJEvv27YNI9wROJJPJqF+wmTNnamtrA48fP/6u/0grO4SCjsnlcj88C6Fw6dIlFCX09u3bwYEDB1AkahBqIQ8MDAyAefPmSSaTxQn9TfDh4WE3btwAW7du/a7/SKv6EKqYxCFTJhKJiFTNzc3g6dOnPw7w947W1dXp7OwEe/fuBQ0NDSiiO3fuXJQuQNls1vXr18HBgwfB+/fvf/D/5yFw9OhRcOTIkaht5cqV4N69e2X5CLscEt+qVau8ffsWpV3u7e2NyPv8+XOMfoxWvIAQErlcLppIV1cXOHfuXCWuIl+pVCq6+IS2vr6+KIeMVbX480Io2N27d61YsQKi62Brayt48eJFxf4Cmhs3bgR37tyJwmos+3MRaGho8O7du+/anjx5AtavX1/W7o1mIQG+evXKzZs3x+1f9QhMeAH9/f2y2WykgyCTychkMk6cOFFxKT0Wi4nFYpLJpGQy6evXr2W991N1oZCBr169ilKdp6Ojw7p168C1a9fG9ROPxzU1NaFU2AoHw7jvVjbl388mpSoRakChmpZKpSJCB1Q+fPgQ9Q+hdezYMbBnz57oktPT0wM2b948qrb6X6t6BCalNhr0y8mTJ1G8A4RSeuDAqVOnorjesmUL2LZtG0qXe0qav7e3t6yxJ7WwNWPGDHDhwoUoowZSFgqFqFAVil33798Ht2/fjnRUEHDh1jaeVX0ITSoC4V7b0tLi9OnTKH0LSKfTvnz5Ai5fvgwOHz4MXr9+PfExJ/zmb2KTikDQ8rW1tWbPng3RVXH//v3Rt7BQcQuq9Y/+SjkpCISdH1nbCf/D78ijMhyn5eqdMceOx+MFKv+4FovFosmFBYQMm8/no7YQHiPL7WHi4aicSAhFm1bxm7+Z/QVQl7GA5wylJAAAAABJRU5ErkJggg==\" y=\"-119.916522\"/>\n   </g>\n  </g>\n  <g id=\"axes_11\">\n   <g clip-path=\"url(#pc93b34231c)\">\n    <image height=\"48\" id=\"image4845f86c42\" transform=\"scale(1 -1)translate(0 -48)\" width=\"48\" x=\"123.652174\" xlink:href=\"data:image/png;base64,\niVBORw0KGgoAAAANSUhEUgAAADAAAAAwCAYAAABXAvmHAAAABHNCSVQICAgIfAhkiAAABFJJREFUaIHt2cuLjX8cB/DXc84ZlxkxyGXIhBRSiKhBIhZuyV6ksNFsxsbCRi5lYyE2pmyUkrNRlP9AY6GsMFi5TIZcmjEux8x5fotnvs/Dr1/9nAsaM+86zanzzPfz/X7fn8v783kixH4TCoUCKJfLP/ytBbmaV/jDKPwuQ9OnT3fgwAHQ2dkJ+vv7a1438ptc6Ny5czZv3gzWrVsHvnz5UvO6Yy70f5g8eTLYtWuXe/fugaGhobqtP8bAfyGKIlOnTgVr1qwB+XzexIkTMcbAD6gLA1EUgTlz5oDVq1d79+4dWL58OWhpaTFlyhQwd+5c8Pz585pt13SAsPGwoW3btoH37997/fo1ePr0afpsc3MzOHHiBDh48GAt5vEXuFDVhSyKIosXLwaLFi0Cz549Ay9evFAqlZAF8Y0bN0yaNAl8+vQJzJw5E3z+/LnK7f8FDFQcA0FRHjt2zMaNG8Hly5fBy5cvkdxwU1MTaGhoAH19fSkD+XweLFiwADx48ODXHyBs5M6dO2DFihUp9T09PeDNmzegqanJwoULwZ49e0Bzc3Mqn8MBdu/eDbq7u6uuDaPHhbZu3QpWrlyZ/GOhkN7k9u3bwdq1a5HcdkiZweXiOE7VZ7jtZcuWIUnDoSbEcWU5ZXQwkM/n7dixA1nx+v57uO2gdRoaGowbNw58+/YN9Pb2+vDhA5KqDBs2bACHDx926tQpSNPvz2J0MBDHsbt374J9+/Yh0/lktxwK1ODgYJq1njx5Aq5du5YWrrBGSLWtra3Gjx+Pyhn4qQOUy2XXr19HlruPHz+eukkI1MHBwXSzV69ehVQTFQoFR44cgVTUffz4Edy/f9/AwEBFGw8YHS5ERu3p06eRBOX58+eTRYYZCG7V09Oju7sb2exnxowZqWYKzIWgvnnzZtUzotHDQEAoNJ2dnWngnTlzBkyYMAFs2rTJlStXkI1OGhsbzZo1KzE6zFgI9FrGKzU1NBcvXkTSgcHevXuRHGDevHng4cOHSFzu1q1byCpwY2MjWLp0aaqnKnWlEe9CdZnMheB8/PgxEjc7efIkMvcaGhpKXej27dtg/vz5SNhpa2tD0o5WgjEGyILy69evIJfLefXqFViyZAmShiaXS+4r9AGXLl1CorXWr18PHj16VJHtEc9AXeZCQUIE2TB79uzU39vb28HZs2fT53t7exPjw8xFUeTt27dV2a7raPHQoUNIKmuQ2kePHgVdXV1pkIegDy1pf3//6G0p6/qCY9q0aUjmQqG5CZV7YGBAX1/fD88HfdXV1WX//v3IpPnPYsQzQMJAXT5RFMVRFMUdHR1xqVSKS6VSXC6X43K5HMdxnH4PvxWLxbhYLMYtLS3V2/SL3pG1traCCxcugJ07d6a/hc5t1apVyAbA1WDEu9Avf0sZ0mlbW5stW7aAYrEIadNT6Szoe4wxUJGxYTZqufF/Y4yBP41cLpdLZe5IxMjd+TD+AR1yxE9V5gOhAAAAAElFTkSuQmCC\" y=\"-119.916522\"/>\n   </g>\n  </g>\n  <g id=\"axes_12\">\n   <g clip-path=\"url(#p0aa091ec85)\">\n    <image height=\"48\" id=\"imagedbc421e2a0\" transform=\"scale(1 -1)translate(0 -48)\" width=\"48\" x=\"181.878261\" xlink:href=\"data:image/png;base64,\niVBORw0KGgoAAAANSUhEUgAAADAAAAAwCAYAAABXAvmHAAAABHNCSVQICAgIfAhkiAAAAxxJREFUaIHtmL9KK0EUxn+brIn/FgLaCIJoo4WFsfMJbCzEJo0INkGwMJAn8BEEKxEC4muIKKSxtBOUFFpGiUbXmOzOWISZTfTeq7KTvey9+WDJwIZz5sz5vrNnjgVIIkIikQBAStn1G8pmaAt/GXZUjorFIsvLywCsrq4C4LpuaLsWPabQ1NQUANfX11SrVQAmJiaM2e9T6Cu8vb0B4HmeppBJ9DPwFV5eXgAQQvDw8GDcfuwz0PMAhBAIIRgeHqZQKFAoFIza73kZHRgYAKDZbNJsNgFIp9PG7MeeQj3PgEJn32NZljG7sc9AZAF4nqfXtm1j22YqeGQB3N3d6XWpVKJUKhmxG3sKRSbidDpNo9EAgv5ocHAwtN1+Bn4C3/eB4GppopzGPgORXSmTyaReq0yYQM8CUPRIpVIA3N7eauo8Pz8b89OnUCdUl3l6eko2mwWCkjkyMqK70WKxaMxnPwMQ8H1nZweAhYUF/ZFSPU+j0eD8/ByA4+NjE27b9pWwhBCfNvTT0Z/aWDabZW1tDehu4lT1MTHQUog9haxEIiGhnQF18kNDQ0Bwekp830UqlWJ7exuA3d1dABzH0YIeHR3tsh8G/2YGHMcBYG5uDoBKpcL9/T0Q6MKyrE8a6Xw3OTkJwOXlJQCZTEa/z2QyADw9PYUOIPYZsDtPUa3VyVQqFQBWVlZ0L6/GJEtLS3ryfHJyAsDBwQHQrjKPj48A3NzcALC4uKj9bGxsALC/vx86AMuyLNm5+V/BcRxmZmYA2NzcBCCXyzE+Pg4EYry6ugJgb2+Ps7MzIBivHx0d6bH61tYWAIeHh6EDiD2FoH2h+fZj27a0bVvmcjlZq9VkrVaTnudJz/OkghBCuq4rXdeV5XJZlstlWa1W9f/y+bzM5/M/8vu7J/YZCHWlHBsbA+Di4gJA66QTSlutVkuP16enpwF0YQgDo3fi9fV1oC3Yj/fd19dX3WIrsZtA7CkEBoT08ZmdnZW+70vf92W9Xpf1el3Oz88b98N/L+I/QQlcfdVbrVYv3MRfA5FO5nqBRDKZ7Bo6xQ2xp9A75NiYeq9OE+EAAAAASUVORK5CYII=\" y=\"-119.916522\"/>\n   </g>\n  </g>\n  <g id=\"axes_13\">\n   <g clip-path=\"url(#p2437301373)\">\n    <image height=\"48\" id=\"image88b42cb58c\" transform=\"scale(1 -1)translate(0 -48)\" width=\"48\" x=\"7.2\" xlink:href=\"data:image/png;base64,\niVBORw0KGgoAAAANSUhEUgAAADAAAAAwCAYAAABXAvmHAAAABHNCSVQICAgIfAhkiAAABCdJREFUaIHtmc0rtF0cxz/zauTljhojGjSJBZksZGMzFFlI2VqJnQ1FVlJKUV6aSUqRlfIHsLEYpZHyOislZiF1JZHXGGbMeRbXc64h7m4zc9+eZ27zremazvV2zvl+z+/3Pb9Lp9PpBIAQgmSE/r/uQKLQAck59f8i6RlI+gEYE7nZZDIB8PLy8qY9Eokk8tiY8H0ZMJvN7OzsANEZLysr087JttHRUQCGhob+SKhOegbiDqNOpxO/3w9AOBwGokw8Pz9jsVgA0Ov1Wpvb7QZUNgCenp7i77hOpx6JcwAOh4NAIABEF/Hw8DAAMzMzmpyWl5cB+PHjhyYhRVEAaG5uBuDg4CBueSW9hEBlIOafXq8XEuFwWITDYeFyuYTL5XpznclkEiaTSXR0dAhFUYSiKCIYDIpgMCgCgYAIBAKisrIyrj4AIukZSMgL3d3dAWA0qtF4e3sbAJfL9S656fV6WltbAZiYmAAgIyMDAL/fz8DAgPY/FiQ0gJKSEkBdhIAWeQYHBxkZGXl3vdVqBaCnpweA6upqAGw2G7e3t0A0EKytrX2qD99bQhIynDocDgCCwSBFRUUAXF1dAarMnE4ngHaUeeDk5ISmpiYA0tLSAJWJ6+vrX747xQBAZ2cnAHNzcwCEQiHq6+sB2NraAtSZ7erqAtDOTU5OArC+vq5lcZlhhRCfSm4pBiCq28fHR/WhOh1HR0cA1NTUAPDw8KBFIcnE3t4eACsrK5+a7dfs/NYBSEhTZzAYtDafzwdAe3u7JpPS0tI3HfH5fO/yxmeRktBrSEnIBPUakUiE4+NjAObn5wHwer0AHB4ecn9/D8Ren0oxANHFZbPZAGhsbMTj8QCQlZUFRDc2oCY6gPHxcQDcbjc3NzeAGoJjRdxW1mq1CqvVKux2u7Db7cJsNguz2fzmGoPBIAwGg1hcXBShUEiEQiHNfnu9XuH1ekVBQYEwGo3CaDSm7PSnYTKZNMeZn58PwMLCAvBzJylt98XFhfYMgNnZWfr7+4H3NaZf4fsyUFdXx9TUFKDWgQDOz88BaGlp0RbqR+jt7QVgbGwMUN1sVVUVEPsiTnoGYq7M5eTkAODxeKioqACiHshutwMwPT1NX18fwIeeXu4b5H5AUZS466kxSygvLw+AjY0NiouLAd7JxWKxaH5Ixv9IJKJlWZk35H0NDQ2a7Y51IN9PQpeXlwAsLS3R3d0NRKsTubm5gDrrrzOvbJOQTKyurgJqJeLbVubiDqM2m02rbZaXlwNQW1sLqAlL6nx/fx9Qk9vp6SkAu7u7wO/5MpqQmftoh/QnIN/zUVvSSyihb2Rf9XFcliCzs7MBNX+kGPhKFBYWAtDW1gbA5uYmZ2dnwN/AwFdFkkQg+yY9V3p6ulYJN0rPIms6/yfIvknP9LpQnJmZCfwFEvoHegYRav0CS64AAAAASUVORK5CYII=\" y=\"-176.64\"/>\n   </g>\n  </g>\n  <g id=\"axes_14\">\n   <g clip-path=\"url(#p4106b0e7a8)\">\n    <image height=\"48\" id=\"image51a990d9c5\" transform=\"scale(1 -1)translate(0 -48)\" width=\"48\" x=\"65.426087\" xlink:href=\"data:image/png;base64,\niVBORw0KGgoAAAANSUhEUgAAADAAAAAwCAYAAABXAvmHAAAABHNCSVQICAgIfAhkiAAABGRJREFUaIHt2ctrU1sUBvBfkuZhqyg4EFE0KKJO6kQQhUykKD5wIB0IDvwHKggOHOlQRHTq1AeIT7ADwQfqsCoZKiIoovUdFesLe9qacwfn7hPvpdbU2ivh9oOQwDk52Wuv9e31fSsZxFoY2T+9gIliKoA/jakA/jRaPoC2Zm7K5XLK5TLYs2cPWL58uStXroADBw6AkZGRSVji2Gj5DJA0slFfxWIxLhaL8eXLl+MoiuIoiuLRMDg4GA8ODsbVajWuVqvx5s2b41KpFJdKpR8++3e9MsboxN3d3eDkyZPy+TzIZDI/3ZFv37558OABWLduHXj+/Ll6vf7z7RwnWr6ExiTxtGnTQD6fF8dJoj59+gT6+vq8ffsWVCoVMG/ePCRZWrBgATh48CA4fPhwmpXPnz8jydRE0fIZGJMDK1euBDdv3kzr98OHD2Dfvn16e3tBqVQCXV1dYMeOHRYvXgxplmq1mv7+frB//37w8OHD8S32b/6FavhpAAG3b9/W2dkJCoUCiKIoLY+woOHhYTB79mxHjx4Fq1evBh0dHb58+QJOnToFdu3ahYmVUsuXUFOduFKpuHDhAli/fj0Sgu/duxfcu3cPnDt3DgwMDOjr60PjGM3lcjo6OsDSpUvRKL2QmfEglNP/IwNDQ0M2bdoE1qxZA44fP54S9dixY2DZsmWgt7fXqlWr0u+SHMXh+Ay7N3fuXIyfzDSI3PIZaOoUGg3FYtGdO3fAokWLQDab7EcURV6/fo3GMVqv19NdC9+7du0aOH/+/C8r2V8OAKk+evr0KZgzZ0567c2bN2Dt2rXg5cuX5s+fj0Z/WbFiBZKufunSJTT6TLNo+RJqisQ/Qmhcgbzv379Pr4XOHY7Yer3u3bt34NGjR+Djx4+gv7/frFmz0NBazSrXls/AhDjwb4RG1t3dncqDwJPv9Uv64995i9GuN4PfGkDA0NBQuvAgqwPRfwWjibiAli8hJsGndnV1pX65VqvFtVotbm9vH7/fzWTiTCYTl8vluFwux4VCIS4UCv+4p+UzMCkcoKFvQvN68eKFjRs3gvv37zf1jJkzZ4LTp08j0V9w5syZKS30U7S1JT0y+IgNGzZ49uwZ2LZtG6hWqxjdkWWzWTt37gQ9PT2QDgW2bNmSaqcJdeKxEH5g69atSDrswoULwfXr18GhQ4fAkSNHUg0ULGulUkkDnTFjBqQb0NbWlgbd8iU0aRkICHrp8ePHqZVsb28H27dvR2JBc7kcWLJkCejs7Ew/f/36FVKbOjIyMkXicaNUKhkYGECjzoN6vXHjRnpf8BT5fN6rV6/A2bNnwcWLF9GY7PEfBkDi4pAOuAI5h4eH3b17Fzx58gQJsW/duoWx/3do+RKadBJ/jyiK0JhshNFkuVxOj9Hdu3cjsaDNoOUz8J9yICBML8LctKenx4kTJ8DVq1fR/Lx0KgMTQZiVTp8+PZ2PhvdmLWYmm83GND8F+B0IdjOUUjabTTt2WMf/ZirxF8aWNVFnP5ORAAAAAElFTkSuQmCC\" y=\"-176.64\"/>\n   </g>\n  </g>\n  <g id=\"axes_15\">\n   <g clip-path=\"url(#p1751223524)\">\n    <image height=\"48\" id=\"image748814aaba\" transform=\"scale(1 -1)translate(0 -48)\" width=\"48\" x=\"123.652174\" xlink:href=\"data:image/png;base64,\niVBORw0KGgoAAAANSUhEUgAAADAAAAAwCAYAAABXAvmHAAAABHNCSVQICAgIfAhkiAAAA3RJREFUaIHtmM8rdFEYxz93jLtgiNhQJMZCYkF2ShZSk5RQyl4pLGTFajayUBb+i6GYDcVClIyNslKm/CgljLnCYIxx3sV1zpj3R2/Nvd7pvuZb09SdO89znvN9fnzP0QCBg+HK9gKsIhdAtpELINtwfADurzDqcv26L7qu4/F4ALi7uwPg7e3Nui/LFrIMWxhwu00zg4ODAIyNjXF8fAzAyckJAD09Pby/vwMwNTUFwO7urnXfli2AWlhDQwMAyWSS+/v7tN/q6uooLCwEYHZ2FoDOzs60dzKB41NIw0YtVFNTA4AQgmg0CqB2PRQKUVVVBcDLywsARUVFwDdnwNY2enZ2BphtVAiT2OfnZwAikQjV1dWAWSNgbeclvmQOfF5YXl4eAJWVlerZ1dWVbb5yKfQn5OfnA9Da2gqAx+Ph9fUVgKGhIdv85Bj4HVwuFzMzMwD09vYCoGkaq6urABwcHNjnyzZLWYSw+9PX1ydisZiIxWLCMAxhGIYIh8PC6/UKr9drqy9bU6i4uBiAQCCgBN7T0xMAwWCQh4cH23xpmgb8BylkKwPr6+umUXfK7OXlJQD7+/tKfa6srAAQj8ct+3Q8A7ao0fLycgDOz88Bc4hFIhEA/H6/6UjTGBkZAVJaqL29HbDGRMYppGkaAwMDAExOTgIpmRwIBNTC5fQdHR2ltrYWgIKCAgDW1tYA6OrqyljYOT6FMmagsbGRxcVFIHVokalxc3OjWqaU1aFQCJ/PB0B9fT0AbW1tABweHjI+Pg7A9vZ22v/+BsczkHERNzc3EwwGgVQRSwV6fX3N3t4eAJubmwA8Pj5SUVEBQHd3NwAtLS2AqVTlwUe+v7S0REdHBwCGYQCwsLAApO6V4DszoOs6c3NzAAwPDwNQVlYGpB8pE4kEYJ7Ctra2ABQT8hqmpKREsSe/k8mkuuGTnUyy09/fr+rN0hyQxTsxMQHA9PQ0gLpC/BkyKOlcXi3G43F0XTcX9KFxEomEOo7KFnt0dASAz+fj9vYW+M4plGbkY9fkYPP7/WpoyTSQqfEZkoFoNKoKdWNjAzD1kmRY3jeFw2HAbLVyeucY+B0+77ZUpk1NTczPzwNQWloKwM7ODgDLy8ucnp4CcHFxAaTqJG2xH0wLIRSzXxLAv4TjUygXQLaRCyDbcH4Amqap/upEOJ6BH3LCdOHbYG+BAAAAAElFTkSuQmCC\" y=\"-176.64\"/>\n   </g>\n  </g>\n  <g id=\"axes_16\">\n   <g clip-path=\"url(#p83cca8fa6f)\">\n    <image height=\"48\" id=\"image0d67036729\" transform=\"scale(1 -1)translate(0 -48)\" width=\"48\" x=\"181.878261\" xlink:href=\"data:image/png;base64,\niVBORw0KGgoAAAANSUhEUgAAADAAAAAwCAYAAABXAvmHAAAABHNCSVQICAgIfAhkiAAABARJREFUaIHt2D1oVFsUBeBvMrk4hgnGaAZRggQUBIsUprP3F/xBwSaFFgpa29g9e0HstEspCKYQQUhhI6QRRWIhBDVK8C8QJRonXjOeVwznzsszPmcmIb4hWTAMDOfe2fustc9eZ+cQtDDa/nQAS8VaAn8aawk0g1wuJ5fLLcu7Wp6B9uV4SVtbdR82b94MDh48qK+vDzx+/Bg8ffpUoVAAc3Nz4PXr1+D79+/N/3fTT/5PkLOERhZ1vGHDBtDf3w9CCF69egVmZ2fB1q1bHTlyBOzduxfcuHED3Lt3L2OlUSyLhCqVCpiYmADv3r3z7du3BWs+fvyou7sbnDhxAgwODqKaQLNoeQktiYEQqur7+vUrKJfLYH5+/qe1lUrF5OQk2LFjB5ienoaf2GoEq5uBiFgDv8PZs2dBPp9HTfuRyWYRVuIzMDAQ0jQNaZqGSqUSKpVK6O3tDb29vUt6b8tLaEl9oB709PSAFy9eKBaLqBVtR0cH+PHjR9Pvb3kGGi7i9evXo9pN446OjY2h5mk6OzsdOnQI7N+/H6xbty7rtlevXsXSdj5i9TAQfc+pU6fAtWvXMncZ/U5c09nZmR2VcddHRkZcvnwZPHnyZDliRxMJ7NmzB1X6v3z5Aj59+oSqYaNmr6n5o8HBwWx9TK69vfr3i3XuerH6JBQvIaOjo0ZGRlBj4MKFC2Dbtm1evnwJzpw5A2ZmZiRJguqFhxoTd+/ezXxUo2h5BupuZJGBqPO+vr6sQLu6usC+ffvA7du3PXz4EAv1vXHjRvDgwQPUmtzQ0JBLly6hfl8VUbeEouF6+/YtqtZ5165dCwKJCT179mzRwoxF/OjRI3Ds2DFw/vx5pVIJnD59uqEEVo+E/o1CoWBgYABs374dTE1Ngfv379c1aTh37hy4fv169tvRo0fBnTt36opj9TKQJImdO3eiVsRv3rwBk5OTDTWnsbExu3fvBh8+fABbtmyp69mWZ6DpBJIkUSwWFYvFbNYZQhBCkCRJQ/PP/v5+4+PjxsfHlUolpVIpq6/fIY+/Ggk8BtbT06NYLAohmJiYMD09rVwuS9NUV1eXJEl0dHSYn5+Xz+f/83wPIUjT1OjoqMOHD6MqoZs3b/42npaXUMMXmtjQ5ubmsqb2+fNn1LpuuVzOxo1xyDs1NZXNgRZD7NLRyR44cMDFixfBlStXfvlcyzPQ9DGay+Uydxmb1mLznej5C4WCNE0h+45oa2tz69YtcPz4cVTvG+/fv4esoCPjy5JATOJXgTeCJEmyzTh58iSqCUdZDQ8Pg+fPn2Oh4Vu9EloJxAvPpk2bUJPezMxMNtFYY2AlEJmIk7zZ2dk1Bv4IIhPRc0H7ch2FK4l/zp1aXkJ/A/EqwseCH5tcAAAAAElFTkSuQmCC\" y=\"-176.64\"/>\n   </g>\n  </g>\n </g>\n <defs>\n  <clipPath id=\"pcea46ac4d1\">\n   <rect height=\"47.269565\" width=\"47.269565\" x=\"7.2\" y=\"7.2\"/>\n  </clipPath>\n  <clipPath id=\"p529b4f4737\">\n   <rect height=\"47.269565\" width=\"47.269565\" x=\"65.426087\" y=\"7.2\"/>\n  </clipPath>\n  <clipPath id=\"paa91ca0a09\">\n   <rect height=\"47.269565\" width=\"47.269565\" x=\"123.652174\" y=\"7.2\"/>\n  </clipPath>\n  <clipPath id=\"pdcd922e0f8\">\n   <rect height=\"47.269565\" width=\"47.269565\" x=\"181.878261\" y=\"7.2\"/>\n  </clipPath>\n  <clipPath id=\"p13307ac79f\">\n   <rect height=\"47.269565\" width=\"47.269565\" x=\"7.2\" y=\"63.923478\"/>\n  </clipPath>\n  <clipPath id=\"pb1496cd24a\">\n   <rect height=\"47.269565\" width=\"47.269565\" x=\"65.426087\" y=\"63.923478\"/>\n  </clipPath>\n  <clipPath id=\"p4299bf86dd\">\n   <rect height=\"47.269565\" width=\"47.269565\" x=\"123.652174\" y=\"63.923478\"/>\n  </clipPath>\n  <clipPath id=\"p08fd093a37\">\n   <rect height=\"47.269565\" width=\"47.269565\" x=\"181.878261\" y=\"63.923478\"/>\n  </clipPath>\n  <clipPath id=\"peb9fb08598\">\n   <rect height=\"47.269565\" width=\"47.269565\" x=\"7.2\" y=\"120.646957\"/>\n  </clipPath>\n  <clipPath id=\"p74561452ae\">\n   <rect height=\"47.269565\" width=\"47.269565\" x=\"65.426087\" y=\"120.646957\"/>\n  </clipPath>\n  <clipPath id=\"pc93b34231c\">\n   <rect height=\"47.269565\" width=\"47.269565\" x=\"123.652174\" y=\"120.646957\"/>\n  </clipPath>\n  <clipPath id=\"p0aa091ec85\">\n   <rect height=\"47.269565\" width=\"47.269565\" x=\"181.878261\" y=\"120.646957\"/>\n  </clipPath>\n  <clipPath id=\"p2437301373\">\n   <rect height=\"47.269565\" width=\"47.269565\" x=\"7.2\" y=\"177.370435\"/>\n  </clipPath>\n  <clipPath id=\"p4106b0e7a8\">\n   <rect height=\"47.269565\" width=\"47.269565\" x=\"65.426087\" y=\"177.370435\"/>\n  </clipPath>\n  <clipPath id=\"p1751223524\">\n   <rect height=\"47.269565\" width=\"47.269565\" x=\"123.652174\" y=\"177.370435\"/>\n  </clipPath>\n  <clipPath id=\"p83cca8fa6f\">\n   <rect height=\"47.269565\" width=\"47.269565\" x=\"181.878261\" y=\"177.370435\"/>\n  </clipPath>\n </defs>\n</svg>\n",
            "text/plain": "<Figure size 288x288 with 16 Axes>"
          },
          "metadata": {
            "needs_background": "light"
          },
          "output_type": "display_data"
        },
        {
          "name": "stdout",
          "output_type": "stream",
          "text": "Time for epoch 50 is 236.68106198310852 sec\n"
        }
      ],
      "source": [
        "train(train_dataset, EPOCHS)"
      ]
    },
    {
      "cell_type": "code",
      "execution_count": 54,
      "metadata": {},
      "outputs": [
        {
          "data": {
            "text/plain": "<BatchDataset shapes: (None, 28, 28, 1), types: tf.float32>"
          },
          "execution_count": 54,
          "metadata": {},
          "output_type": "execute_result"
        }
      ],
      "source": [
        "train_dataset"
      ]
    },
    {
      "cell_type": "markdown",
      "metadata": {
        "colab_type": "text",
        "id": "rfM4YcPVPkNO"
      },
      "source": [
        "Restore the latest checkpoint."
      ]
    },
    {
      "cell_type": "code",
      "execution_count": 55,
      "metadata": {},
      "outputs": [
        {
          "data": {
            "text/plain": "<tensorflow.python.training.tracking.util.CheckpointLoadStatus at 0x15238a510>"
          },
          "execution_count": 55,
          "metadata": {},
          "output_type": "execute_result"
        }
      ],
      "source": [
        "checkpoint.restore(tf.train.latest_checkpoint(checkpoint_dir))"
      ]
    },
    {
      "cell_type": "markdown",
      "metadata": {
        "colab_type": "text",
        "id": "P4M_vIbUi7c0"
      },
      "source": [
        "## Create a GIF\n"
      ]
    },
    {
      "cell_type": "code",
      "execution_count": 56,
      "metadata": {},
      "outputs": [],
      "source": [
        "# Display a single image using the epoch number\n",
        "def display_image(epoch_no):\n",
        "  return PIL.Image.open('image_at_epoch_{:04d}.png'.format(epoch_no))"
      ]
    },
    {
      "cell_type": "code",
      "execution_count": 57,
      "metadata": {},
      "outputs": [
        {
          "data": {
            "image/png": "[encoded data removed]",
            "text/plain": "<PIL.PngImagePlugin.PngImageFile image mode=RGBA size=288x288 at 0x1525E7090>"
          },
          "execution_count": 57,
          "metadata": {},
          "output_type": "execute_result"
        }
      ],
      "source": [
        "display_image(EPOCHS)"
      ]
    },
    {
      "cell_type": "markdown",
      "metadata": {
        "colab_type": "text",
        "id": "NywiH3nL8guF"
      },
      "source": [
        "Use `imageio` to create an animated gif using the images saved during training."
      ]
    },
    {
      "cell_type": "code",
      "execution_count": 58,
      "metadata": {},
      "outputs": [],
      "source": [
        "anim_file = 'dcgan.gif'\n",
        "\n",
        "with imageio.get_writer(anim_file, mode='I') as writer:\n",
        "  filenames = glob.glob('image*.png')\n",
        "  filenames = sorted(filenames)\n",
        "  last = -1\n",
        "  for i,filename in enumerate(filenames):\n",
        "    frame = 2*(i**0.5)\n",
        "    if round(frame) > round(last):\n",
        "      last = frame\n",
        "    else:\n",
        "      continue\n",
        "    image = imageio.imread(filename)\n",
        "    writer.append_data(image)\n",
        "  image = imageio.imread(filename)\n",
        "  writer.append_data(image)\n",
        "\n",
        "import IPython\n",
        "if IPython.version_info > (6,2,0,''):\n",
        "  display.Image(filename=anim_file)"
      ]
    },
    {
      "cell_type": "markdown",
      "metadata": {
        "colab_type": "text",
        "id": "cGhC3-fMWSwl"
      },
      "source": [
        "If you're working in Colab you can download the animation with the code below:"
      ]
    },
    {
      "cell_type": "code",
      "execution_count": 59,
      "metadata": {},
      "outputs": [],
      "source": [
        "try:\n",
        "  from google.colab import files\n",
        "except ImportError:\n",
        "   pass\n",
        "else:\n",
        "  files.download(anim_file)"
      ]
    },
    {
      "cell_type": "markdown",
      "metadata": {
        "colab_type": "text",
        "id": "k6qC-SbjK0yW"
      },
      "source": [
        "## Next steps\n"
      ]
    },
    {
      "cell_type": "markdown",
      "metadata": {
        "colab_type": "text",
        "id": "xjjkT9KAK6H7"
      },
      "source": [
        "This tutorial has shown the complete code necessary to write and train a GAN. As a next step, you might like to experiment with a different dataset, for example the Large-scale Celeb Faces Attributes (CelebA) dataset [available on Kaggle](https://www.kaggle.com/jessicali9530/celeba-dataset). To learn more about GANs we recommend the [NIPS 2016 Tutorial: Generative Adversarial Networks](https://arxiv.org/abs/1701.00160).\n"
      ]
    },
    {
      "cell_type": "code",
      "execution_count": null,
      "metadata": {},
      "outputs": [],
      "source": []
    }
  ]
}