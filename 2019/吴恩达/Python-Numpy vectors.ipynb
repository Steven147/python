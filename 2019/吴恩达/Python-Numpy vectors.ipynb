{
 "cells": [
  {
   "cell_type": "code",
   "execution_count": 2,
   "metadata": {},
   "outputs": [],
   "source": [
    "import numpy as np\n",
    "\n",
    "a = np.random.randn(5) #不是一个矩阵"
   ]
  },
  {
   "cell_type": "code",
   "execution_count": 3,
   "metadata": {},
   "outputs": [
    {
     "name": "stdout",
     "output_type": "stream",
     "text": "[ 0.04053977 -0.76783849  0.33457505 -0.27406032 -0.88311044]\n"
    }
   ],
   "source": [
    "print(a)"
   ]
  },
  {
   "cell_type": "code",
   "execution_count": 4,
   "metadata": {},
   "outputs": [
    {
     "name": "stdout",
     "output_type": "stream",
     "text": "(5,)\n"
    }
   ],
   "source": [
    "print(a.shape) #秩为一的数组（不要使用！用行列向量代替）"
   ]
  },
  {
   "cell_type": "code",
   "execution_count": 5,
   "metadata": {},
   "outputs": [
    {
     "name": "stdout",
     "output_type": "stream",
     "text": "[ 0.04053977 -0.76783849  0.33457505 -0.27406032 -0.88311044]\n"
    }
   ],
   "source": [
    "print(a.T)"
   ]
  },
  {
   "cell_type": "code",
   "execution_count": 6,
   "metadata": {},
   "outputs": [
    {
     "name": "stdout",
     "output_type": "stream",
     "text": "1.558152990107819\n"
    }
   ],
   "source": [
    "print(np.dot(a,a.T)) #按理说是向量外积，答案却是内积"
   ]
  },
  {
   "cell_type": "code",
   "execution_count": 7,
   "metadata": {},
   "outputs": [
    {
     "name": "stdout",
     "output_type": "stream",
     "text": "[[ 0.4334474 ]\n [-1.80450891]\n [-0.76067323]\n [ 0.39411087]\n [ 0.55752632]]\n"
    }
   ],
   "source": [
    "a = np.random.randn(5,1)#是一个列向量（矩阵）\n",
    "print(a)"
   ]
  },
  {
   "cell_type": "code",
   "execution_count": 8,
   "metadata": {},
   "outputs": [
    {
     "name": "stdout",
     "output_type": "stream",
     "text": "[[ 0.4334474  -1.80450891 -0.76067323  0.39411087  0.55752632]]\n"
    }
   ],
   "source": [
    "print(a.T)"
   ]
  },
  {
   "cell_type": "code",
   "execution_count": 9,
   "metadata": {},
   "outputs": [
    {
     "name": "stdout",
     "output_type": "stream",
     "text": "[[ 0.18787665 -0.7821597  -0.32971183  0.17082633  0.24165834]\n [-0.7821597   3.25625241  1.37264162 -0.71117657 -1.00606122]\n [-0.32971183  1.37264162  0.57862376 -0.29978958 -0.42409535]\n [ 0.17082633 -0.71117657 -0.29978958  0.15532337  0.21972718]\n [ 0.24165834 -1.00606122 -0.42409535  0.21972718  0.3108356 ]]\n"
    }
   ],
   "source": [
    "print(np.dot(a,a.T))#向量外积"
   ]
  },
  {
   "cell_type": "code",
   "execution_count": null,
   "metadata": {},
   "outputs": [],
   "source": []
  }
 ],
 "metadata": {
  "kernelspec": {
   "display_name": "Python 3.7.6 64-bit ('venv': conda)",
   "language": "python",
   "name": "python37664bitvenvcondae9069e027d59427baed57928efe6f059"
  },
  "language_info": {
   "codemirror_mode": {
    "name": "ipython",
    "version": 3
   },
   "file_extension": ".py",
   "mimetype": "text/x-python",
   "name": "python",
   "nbconvert_exporter": "python",
   "pygments_lexer": "ipython3",
   "version": "3.7.6-final"
  }
 },
 "nbformat": 4,
 "nbformat_minor": 2
}