{
 "cells": [
  {
   "cell_type": "code",
   "execution_count": 1,
   "metadata": {},
   "outputs": [],
   "source": [
    "from gurobipy import *"
   ]
  },
  {
   "cell_type": "code",
   "execution_count": 2,
   "metadata": {},
   "outputs": [],
   "source": [
    "question = [[8,0,0,0,0,0,0,0,0],\n",
    "[0,0,3,6,0,0,0,0,0],\n",
    "[0,7,0,0,9,0,2,0,0],\n",
    "[0,5,0,0,0,7,0,0,0],\n",
    "[0,0,0,0,4,5,7,0,0],\n",
    "[0,0,0,1,0,0,0,3,0],\n",
    "[0,0,1,0,0,0,0,6,8],\n",
    "[0,0,8,5,0,0,0,1,0],\n",
    "[0,9,0,0,0,0,4,0,0]]"
   ]
  },
  {
   "source": [
    "def sudoku(question):\n",
    "    try:\n",
    "        model = Model('sudoku')\n",
    "        # 创建变量\n",
    "        # x_i_j_k表示第i行第j列取值为k\n",
    "        x = [[[model.addVar(vtype=GRB.BINARY, name='x_'+str(i)+'_'+str(j)+'_'+str(k)) for k in range(10)] for j in range(9)] for i in range(9)]\n",
    "        # 添加约束\n",
    "        # (1) 输入数据\n",
    "        for i in range(9):\n",
    "            for j in range(9):\n",
    "                for k in range(1,10):\n",
    "                    if question[i][j]==k:\n",
    "                        model.addConstr(x[i][j][k]==1)\n",
    "        # (2) i行j列只取一个值\n",
    "        for i in range(9):\n",
    "            for j in range(9):\n",
    "                model.addConstr(sum(x[i][j])==1)\n",
    "        # (3) 同行变量互不相等\n",
    "        for k in range(1,10):\n",
    "            for i in range(9):\n",
    "                s = 0\n",
    "                for j in range(9):\n",
    "                    s += x[i][j][k]\n",
    "                model.addConstr(s==1)\n",
    "        # (4) 同列变量互不相等\n",
    "        for k in range(1,10):\n",
    "            for j in range(9):\n",
    "                s = 0\n",
    "                for i in range(9):\n",
    "                    s += x[i][j][k]\n",
    "                model.addConstr(s==1)\n",
    "        # (5) 同3*3方格内变量互不相等\n",
    "        for ii in range(3):\n",
    "            for jj in range(3):\n",
    "                for k in range(1,10):\n",
    "                    s = 0\n",
    "                    for i in range(ii*3, ii*3+3):\n",
    "                        for j in range(jj*3, jj*3+3):\n",
    "                            s += x[i][j][k]\n",
    "                    model.addConstr(s==1)\n",
    "        # 优化\n",
    "        model.optimize()\n",
    "        # 输出结果\n",
    "        for i in range(9):\n",
    "            for j in range(9):\n",
    "                for k in range(1,10):\n",
    "                    if x[i][j][k].x==1:\n",
    "                        print(k, end=' ')\n",
    "            print()     \n",
    "    except GurobiError as e:\n",
    "        print('Error code ' + str(e.errno) + \": \" + str(e))\n",
    "\n",
    "    except AttributeError:\n",
    "        print('Encountered an attribute error')"
   ],
   "cell_type": "code",
   "outputs": [],
   "metadata": {},
   "execution_count": 5
  },
  {
   "source": [
    "sudoku(question)"
   ],
   "cell_type": "code",
   "outputs": [
    {
     "output_type": "stream",
     "name": "stdout",
     "text": "Gurobi Optimizer version 9.0.1 build v9.0.1rc0 (mac64)\nOptimize a model with 345 rows, 810 columns and 3018 nonzeros\nModel fingerprint: 0xb8e46780\nVariable types: 0 continuous, 810 integer (810 binary)\nCoefficient statistics:\n  Matrix range     [1e+00, 1e+00]\n  Objective range  [0e+00, 0e+00]\n  Bounds range     [1e+00, 1e+00]\n  RHS range        [1e+00, 1e+00]\nPresolve removed 131 rows and 573 columns\nPresolve time: 0.02s\nPresolved: 214 rows, 237 columns, 942 nonzeros\nVariable types: 0 continuous, 237 integer (237 binary)\n\nRoot relaxation: objective 0.000000e+00, 349 iterations, 0.01 seconds\n\n    Nodes    |    Current Node    |     Objective Bounds      |     Work\n Expl Unexpl |  Obj  Depth IntInf | Incumbent    BestBd   Gap | It/Node Time\n\n     0     0    0.00000    0  100          -    0.00000      -     -    0s\nH    0     0                       0.0000000    0.00000  0.00%     -    0s\n     0     0    0.00000    0  116    0.00000    0.00000  0.00%     -    0s\n\nCutting planes:\n  Gomory: 1\n  Clique: 1\n  Zero half: 6\n\nExplored 1 nodes (598 simplex iterations) in 0.13 seconds\nThread count was 8 (of 8 available processors)\n\nSolution count 1: 0 \n\nOptimal solution found (tolerance 1.00e-04)\nBest objective 0.000000000000e+00, best bound 0.000000000000e+00, gap 0.0000%\n8 1 2 7 5 3 6 4 9 \n9 4 3 6 8 2 1 7 5 \n6 7 5 4 9 1 2 8 3 \n1 5 4 2 3 7 8 9 6 \n3 6 9 8 4 5 7 2 1 \n2 8 7 1 6 9 5 3 4 \n5 2 1 9 7 4 3 6 8 \n4 3 8 5 2 6 9 1 7 \n7 9 6 3 1 8 4 5 2 \n"
    }
   ],
   "metadata": {},
   "execution_count": 6
  },
  {
   "cell_type": "code",
   "execution_count": null,
   "metadata": {},
   "outputs": [],
   "source": []
  }
 ],
 "metadata": {
  "kernelspec": {
   "display_name": "Python 3.7.6 64-bit ('gurobi': conda)",
   "language": "python",
   "name": "python37664bitgurobiconda26b4d5b91b2c40f2a0eaa35a3c64d888"
  },
  "language_info": {
   "codemirror_mode": {
    "name": "ipython",
    "version": 3
   },
   "file_extension": ".py",
   "mimetype": "text/x-python",
   "name": "python",
   "nbconvert_exporter": "python",
   "pygments_lexer": "ipython3",
   "version": "3.7.6-final"
  },
  "varInspector": {
   "cols": {
    "lenName": 16,
    "lenType": 16,
    "lenVar": 40
   },
   "kernels_config": {
    "python": {
     "delete_cmd_postfix": "",
     "delete_cmd_prefix": "del ",
     "library": "var_list.py",
     "varRefreshCmd": "print(var_dic_list())"
    },
    "r": {
     "delete_cmd_postfix": ") ",
     "delete_cmd_prefix": "rm(",
     "library": "var_list.r",
     "varRefreshCmd": "cat(var_dic_list()) "
    }
   },
   "types_to_exclude": [
    "module",
    "function",
    "builtin_function_or_method",
    "instance",
    "_Feature"
   ],
   "window_display": false
  }
 },
 "nbformat": 4,
 "nbformat_minor": 2
}